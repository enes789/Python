{
  "nbformat": 4,
  "nbformat_minor": 0,
  "metadata": {
    "colab": {
      "name": "Assignment - 007/4 (Is it an Prime Number?)",
      "provenance": [],
      "authorship_tag": "ABX9TyMLG4EeUyJSKIz8c+lu+Oa/",
      "include_colab_link": true
    },
    "kernelspec": {
      "name": "python3",
      "display_name": "Python 3"
    }
  },
  "cells": [
    {
      "cell_type": "markdown",
      "metadata": {
        "id": "view-in-github",
        "colab_type": "text"
      },
      "source": [
        "<a href=\"https://colab.research.google.com/github/enes789/Python/blob/main/Assignment_007_4_(Is_it_an_Prime_Number%3F).ipynb\" target=\"_parent\"><img src=\"https://colab.research.google.com/assets/colab-badge.svg\" alt=\"Open In Colab\"/></a>"
      ]
    },
    {
      "cell_type": "code",
      "metadata": {
        "colab": {
          "base_uri": "https://localhost:8080/"
        },
        "id": "ljQNJJb4PoFl",
        "outputId": "667341f8-b07a-4d69-81bb-48432463572d"
      },
      "source": [
        "n = int(input(\"Enter a number to learn whether it is prime number or not: \"))\r\n",
        "\r\n",
        "if n == 1:\r\n",
        "  print(f\"{n} is not prime number\")\r\n",
        "elif n == 2:\r\n",
        "  print(f\"{n} is prime number\")\r\n",
        "else:\r\n",
        "  for i in range(2, n):\r\n",
        "    if n % i == 0:\r\n",
        "      print(f\"{n} is not prime number\")\r\n",
        "      break\r\n",
        "    \r\n",
        "  else:\r\n",
        "    print(f\"{n} is prime number\")"
      ],
      "execution_count": null,
      "outputs": [
        {
          "output_type": "stream",
          "text": [
            "Enter a number to learn whether it is prime number or not: 101\n",
            "101 is prime number\n"
          ],
          "name": "stdout"
        }
      ]
    },
    {
      "cell_type": "code",
      "metadata": {
        "id": "EmIWYLPkfmb4"
      },
      "source": [
        ""
      ],
      "execution_count": null,
      "outputs": []
    }
  ]
}