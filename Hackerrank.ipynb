{
  "nbformat": 4,
  "nbformat_minor": 0,
  "metadata": {
    "colab": {
      "name": "Hackerrank",
      "provenance": [],
      "collapsed_sections": [],
      "authorship_tag": "ABX9TyPSZ1PB5OS3IcpNwoThANME",
      "include_colab_link": true
    },
    "kernelspec": {
      "name": "python3",
      "display_name": "Python 3"
    }
  },
  "cells": [
    {
      "cell_type": "markdown",
      "metadata": {
        "id": "view-in-github",
        "colab_type": "text"
      },
      "source": [
        "<a href=\"https://colab.research.google.com/github/enes789/Python/blob/main/Hackerrank.ipynb\" target=\"_parent\"><img src=\"https://colab.research.google.com/assets/colab-badge.svg\" alt=\"Open In Colab\"/></a>"
      ]
    },
    {
      "cell_type": "code",
      "metadata": {
        "colab": {
          "base_uri": "https://localhost:8080/"
        },
        "id": "Uo2mxZ4mxdUk",
        "outputId": "b36cb6fd-0571-434a-d6a0-4645e903475f"
      },
      "source": [
        "  \"\"\" Given an integer, , perform the following conditional actions:\r\n",
        "\r\n",
        "If n is odd, print Weird\r\n",
        "If n is even and in the inclusive range of 2 to 5, print Not Weird\r\n",
        "If n is even and in the inclusive range of 6 to 20, print Weird\r\n",
        "If n is even and greater than 20, print Not Weird\"\"\"\r\n",
        "    n = int(input().strip())\r\n",
        "    if n % 2 != 0:\r\n",
        "        print(\"Weird\")\r\n",
        "    elif n % 2 == 0:\r\n",
        "        if n >=2 and n <=5:\r\n",
        "            print(\"Not Weird\")\r\n",
        "        elif n >= 6 and n <=20:\r\n",
        "            print(\"Weird\")\r\n",
        "        else:\r\n",
        "            print(\"Not Weird\")"
      ],
      "execution_count": 3,
      "outputs": [
        {
          "output_type": "stream",
          "text": [
            "24\n",
            "Not Weird\n"
          ],
          "name": "stdout"
        }
      ]
    },
    {
      "cell_type": "code",
      "metadata": {
        "colab": {
          "base_uri": "https://localhost:8080/"
        },
        "id": "IVZ2WDYl5vYp",
        "outputId": "dd479dc7-59be-4665-a196-21525607b4f5"
      },
      "source": [
        "\"\"\"Both players are given the same string, .\r\n",
        "Both players have to make substrings using the letters of the string .\r\n",
        "Stuart has to make words starting with consonants.\r\n",
        "Kevin has to make words starting with vowels.\r\n",
        "The game ends when both players have made all possible substrings.\r\n",
        "Your task is to determine the winner of the game and their score.\"\"\"\r\n",
        "\r\n",
        "s = input()\r\n",
        "\r\n",
        "vowels = 'AEIOU'\r\n",
        "\r\n",
        "kevsc = 0\r\n",
        "stusc = 0\r\n",
        "for i in range(len(s)):\r\n",
        "    if s[i] in vowels:\r\n",
        "        kevsc += (len(s)-i)\r\n",
        "    else:\r\n",
        "        stusc += (len(s)-i)\r\n",
        "\r\n",
        "if kevsc > stusc:\r\n",
        "    print(\"Kevin\", kevsc)\r\n",
        "elif kevsc < stusc:\r\n",
        "    print(\"Stuart\", stusc)\r\n",
        "else:\r\n",
        "    print(\"Draw\")"
      ],
      "execution_count": 21,
      "outputs": [
        {
          "output_type": "stream",
          "text": [
            "CLARUSWAY\n",
            "Stuart 31\n"
          ],
          "name": "stdout"
        }
      ]
    },
    {
      "cell_type": "code",
      "metadata": {
        "id": "RzQ9d7yy2gOC"
      },
      "source": [
        ""
      ],
      "execution_count": 16,
      "outputs": []
    }
  ]
}