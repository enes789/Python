{
  "nbformat": 4,
  "nbformat_minor": 0,
  "metadata": {
    "colab": {
      "name": "Group_Anagram",
      "provenance": [],
      "authorship_tag": "ABX9TyPkw20WdCBsT3IWDr+e5qFB",
      "include_colab_link": true
    },
    "kernelspec": {
      "name": "python3",
      "display_name": "Python 3"
    }
  },
  "cells": [
    {
      "cell_type": "markdown",
      "metadata": {
        "id": "view-in-github",
        "colab_type": "text"
      },
      "source": [
        "<a href=\"https://colab.research.google.com/github/enes789/Python/blob/main/Group_Anagram.ipynb\" target=\"_parent\"><img src=\"https://colab.research.google.com/assets/colab-badge.svg\" alt=\"Open In Colab\"/></a>"
      ]
    },
    {
      "cell_type": "code",
      "metadata": {
        "id": "fF6rMlU1CzkV"
      },
      "source": [
        "strs = [\"eat\", \"tea\", \"tan\", \"ate\", \"nat\", \"bat\"]\r\n",
        "anag = {}\r\n",
        "for i in strs:\r\n",
        "    if \"\".join(sorted(i)) in anag:\r\n",
        "        anag[\"\".join(sorted(i))].append(i)\r\n",
        "    else:\r\n",
        "        anag[\"\".join(sorted(i))] = [i]\r\n",
        "print(list(anag.values()))"
      ],
      "execution_count": null,
      "outputs": []
    },
    {
      "cell_type": "code",
      "metadata": {
        "colab": {
          "base_uri": "https://localhost:8080/"
        },
        "id": "Hbt5-8acCWzn",
        "outputId": "bb5c23ae-4358-4521-9d71-43c935cf9c0d"
      },
      "source": [
        "strings = [\"eat\", \"tea\", \"tan\", \"ate\", \"nat\", \"bat\"]\r\n",
        "result = []\r\n",
        "for j in strings:\r\n",
        "    item = [x for x in strings if sorted(j) == sorted(x)]\r\n",
        "    if item not in result:\r\n",
        "        result.append(item)\r\n",
        "print(result)"
      ],
      "execution_count": null,
      "outputs": [
        {
          "output_type": "stream",
          "text": [
            "[['eat', 'tea', 'ate'], ['tan', 'nat'], ['bat']]\n"
          ],
          "name": "stdout"
        }
      ]
    }
  ]
}