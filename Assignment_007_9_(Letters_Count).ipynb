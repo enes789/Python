{
  "nbformat": 4,
  "nbformat_minor": 0,
  "metadata": {
    "colab": {
      "name": "Assignment - 007/9 (Letters Count)",
      "provenance": [],
      "authorship_tag": "ABX9TyMi1jwywGy01FFcXMlTAbDg",
      "include_colab_link": true
    },
    "kernelspec": {
      "name": "python3",
      "display_name": "Python 3"
    }
  },
  "cells": [
    {
      "cell_type": "markdown",
      "metadata": {
        "id": "view-in-github",
        "colab_type": "text"
      },
      "source": [
        "<a href=\"https://colab.research.google.com/github/enes789/Python/blob/main/Assignment_007_9_(Letters_Count).ipynb\" target=\"_parent\"><img src=\"https://colab.research.google.com/assets/colab-badge.svg\" alt=\"Open In Colab\"/></a>"
      ]
    },
    {
      "cell_type": "code",
      "metadata": {
        "colab": {
          "base_uri": "https://localhost:8080/"
        },
        "id": "TCynGGpN8S8H",
        "outputId": "fb7d52de-33f3-448a-9390-6aa30d9238f7"
      },
      "source": [
        "sentence = input(\"Enter a sentence: \")\r\n",
        "num_count = {}\r\n",
        "\r\n",
        "for i in sentence:\r\n",
        "  if i in num_count:\r\n",
        "    num_count[i] += 1\r\n",
        "  else:\r\n",
        "    num_count[i] = 1\r\n",
        "print(num_count)"
      ],
      "execution_count": 16,
      "outputs": [
        {
          "output_type": "stream",
          "text": [
            "Enter a sentence: the thirty three thieves thought.\n",
            "{'t': 7, 'h': 6, 'e': 5, ' ': 4, 'i': 2, 'r': 2, 'y': 1, 'v': 1, 's': 1, 'o': 1, 'u': 1, 'g': 1, '.': 1}\n"
          ],
          "name": "stdout"
        }
      ]
    },
    {
      "cell_type": "code",
      "metadata": {
        "colab": {
          "base_uri": "https://localhost:8080/"
        },
        "id": "e3SDgkPn6Nko",
        "outputId": "3c8fd9d1-7020-4b01-e955-b793dcd8c3e5"
      },
      "source": [
        "\"\"\"1.takes a sentence from the user,\r\n",
        "  2.counts the number of each letter of the sentence,\r\n",
        "  3.collects the letters/chars as a key and the counted numbers as a value in a dictionary.\"\"\"\r\n",
        "\r\n",
        "sentence = input(\"Enter a sentence: \")\r\n",
        "num_count = {}\r\n",
        "for i in sentence:\r\n",
        "  num_count[i] = 0\r\n",
        "for i in sentence:\r\n",
        "  if num_count[i] == 0:\r\n",
        "    num_count[i] = 1\r\n",
        "  else:\r\n",
        "    num_count[i] += 1\r\n",
        "print(num_count)"
      ],
      "execution_count": 15,
      "outputs": [
        {
          "output_type": "stream",
          "text": [
            "Enter a sentence: the thirty three thieves thought.\n",
            "{'t': 7, 'h': 6, 'e': 5, ' ': 4, 'i': 2, 'r': 2, 'y': 1, 'v': 1, 's': 1, 'o': 1, 'u': 1, 'g': 1, '.': 1}\n"
          ],
          "name": "stdout"
        }
      ]
    },
    {
      "cell_type": "code",
      "metadata": {
        "id": "_SRvmPzbAPiz"
      },
      "source": [
        ""
      ],
      "execution_count": null,
      "outputs": []
    }
  ]
}