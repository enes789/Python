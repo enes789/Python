{
  "nbformat": 4,
  "nbformat_minor": 0,
  "metadata": {
    "colab": {
      "name": "Assignment - 007/6 (Prime Numbers)",
      "provenance": [],
      "collapsed_sections": [],
      "authorship_tag": "ABX9TyOkjIn7oOp30/Hw99lKVc/r",
      "include_colab_link": true
    },
    "kernelspec": {
      "name": "python3",
      "display_name": "Python 3"
    }
  },
  "cells": [
    {
      "cell_type": "markdown",
      "metadata": {
        "id": "view-in-github",
        "colab_type": "text"
      },
      "source": [
        "<a href=\"https://colab.research.google.com/github/enes789/Python/blob/main/Assignment_007_6_(Prime_Numbers).ipynb\" target=\"_parent\"><img src=\"https://colab.research.google.com/assets/colab-badge.svg\" alt=\"Open In Colab\"/></a>"
      ]
    },
    {
      "cell_type": "code",
      "metadata": {
        "colab": {
          "base_uri": "https://localhost:8080/"
        },
        "id": "IDCdpWsa-AAd",
        "outputId": "33697bc9-9fcc-45db-ce76-7ab4263d8654"
      },
      "source": [
        "n = int(input(\"Enter a number: \"))\r\n",
        "\r\n",
        "prime_numbers = []\r\n",
        "for i in range(1, n + 1):\r\n",
        "  count = 0\r\n",
        "  for j in range(1, i):\r\n",
        "    if (i % j) == 0: \r\n",
        "      count += 1\r\n",
        "  if count == 1: \r\n",
        "    prime_numbers.append(i)\r\n",
        "  \r\n",
        "print(prime_numbers)"
      ],
      "execution_count": null,
      "outputs": [
        {
          "output_type": "stream",
          "text": [
            "Enter a number: 100\n",
            "[2, 3, 5, 7, 11, 13, 17, 19, 23, 29, 31, 37, 41, 43, 47, 53, 59, 61, 67, 71, 73, 79, 83, 89, 97]\n"
          ],
          "name": "stdout"
        }
      ]
    },
    {
      "cell_type": "code",
      "metadata": {
        "colab": {
          "base_uri": "https://localhost:8080/"
        },
        "id": "Pme5MTuFDuuL",
        "outputId": "8ee56898-e3ae-4644-885f-ca769f1eaabd"
      },
      "source": [
        "def parrot_trouble(talking, hour):\r\n",
        "  if talking == True:\r\n",
        "      if hour <= 6 or hour >= 21:\r\n",
        "        return True\r\n",
        "      else:\r\n",
        "        return False\r\n",
        "  else:\r\n",
        "    return False\r\n",
        "\r\n",
        "print(parrot_trouble(True, 5))\r\n",
        "\r\n",
        "print(parrot_trouble(True, 8))\r\n",
        "\r\n",
        "print(parrot_trouble(False, 22))"
      ],
      "execution_count": null,
      "outputs": [
        {
          "output_type": "stream",
          "text": [
            "True\n",
            "False\n",
            "False\n"
          ],
          "name": "stdout"
        }
      ]
    }
  ]
}