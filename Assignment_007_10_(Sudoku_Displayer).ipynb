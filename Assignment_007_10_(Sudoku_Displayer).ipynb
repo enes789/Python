{
  "nbformat": 4,
  "nbformat_minor": 0,
  "metadata": {
    "colab": {
      "name": "Assignment - 007/10 (Sudoku Displayer)",
      "provenance": [],
      "collapsed_sections": [],
      "authorship_tag": "ABX9TyMvzCTHxCevoho+ALiyySaE",
      "include_colab_link": true
    },
    "kernelspec": {
      "name": "python3",
      "display_name": "Python 3"
    }
  },
  "cells": [
    {
      "cell_type": "markdown",
      "metadata": {
        "id": "view-in-github",
        "colab_type": "text"
      },
      "source": [
        "<a href=\"https://colab.research.google.com/github/enes789/Python/blob/main/Assignment_007_10_(Sudoku_Displayer).ipynb\" target=\"_parent\"><img src=\"https://colab.research.google.com/assets/colab-badge.svg\" alt=\"Open In Colab\"/></a>"
      ]
    },
    {
      "cell_type": "code",
      "metadata": {
        "colab": {
          "base_uri": "https://localhost:8080/"
        },
        "id": "SOl39MUGeFXt",
        "outputId": "faf20a30-cd71-4548-8388-e99a10a2ad6d"
      },
      "source": [
        "sudoku = [\r\n",
        "    [0, 0, 0, 0, 6, 4, 0, 0, 0],\r\n",
        "    [7, 0, 0, 0, 0, 0, 3, 9, 0],\r\n",
        "    [8, 0, 0, 0, 0, 0, 0, 0, 0],\r\n",
        "    [0, 0, 0, 5, 0, 2, 0, 6, 0],\r\n",
        "    [0, 8, 0, 4, 0, 0, 0, 0, 0],\r\n",
        "    [3, 5, 0, 6, 0, 0, 0, 7, 0],\r\n",
        "    [0, 0, 2, 0, 0, 0, 1, 0, 3],\r\n",
        "    [0, 0, 1, 0, 5, 9, 0, 0, 0],\r\n",
        "    [0, 0, 0, 0, 0, 0, 7, 0, 0]\r\n",
        "]\r\n",
        "a = 0\r\n",
        "print(\"- \" * 11)\r\n",
        "for i in sudoku:\r\n",
        "  a += 1  \r\n",
        "  count = 0\r\n",
        "  for j in i:\r\n",
        "    count += 1\r\n",
        "    print(j, end=\" \")\r\n",
        "    if count % 3 == 0 and count % 9 != 0:\r\n",
        "      print(\"|\", end = \" \")\r\n",
        "    if count % 9 == 0:\r\n",
        "      print()\r\n",
        "  if a % 3 == 0:\r\n",
        "      print(\"- \" * 11)\r\n",
        "      "
      ],
      "execution_count": 58,
      "outputs": [
        {
          "output_type": "stream",
          "text": [
            "- - - - - - - - - - - \n",
            "0 0 0 | 0 6 4 | 0 0 0 \n",
            "7 0 0 | 0 0 0 | 3 9 0 \n",
            "8 0 0 | 0 0 0 | 0 0 0 \n",
            "- - - - - - - - - - - \n",
            "0 0 0 | 5 0 2 | 0 6 0 \n",
            "0 8 0 | 4 0 0 | 0 0 0 \n",
            "3 5 0 | 6 0 0 | 0 7 0 \n",
            "- - - - - - - - - - - \n",
            "0 0 2 | 0 0 0 | 1 0 3 \n",
            "0 0 1 | 0 5 9 | 0 0 0 \n",
            "0 0 0 | 0 0 0 | 7 0 0 \n",
            "- - - - - - - - - - - \n"
          ],
          "name": "stdout"
        }
      ]
    },
    {
      "cell_type": "code",
      "metadata": {
        "colab": {
          "base_uri": "https://localhost:8080/"
        },
        "id": "tTxhBvT4eTAB",
        "outputId": "1a68aced-6c75-4cf1-899d-38015289fc29"
      },
      "source": [
        "def front_back(word):\r\n",
        "  if len(word) == 1:\r\n",
        "    return word\r\n",
        "  return word[-1] + word[1:len(word) - 1] + word[0]\r\n",
        "\r\n",
        "print(front_back(\"a\"))"
      ],
      "execution_count": 68,
      "outputs": [
        {
          "output_type": "stream",
          "text": [
            "a\n"
          ],
          "name": "stdout"
        }
      ]
    },
    {
      "cell_type": "code",
      "metadata": {
        "colab": {
          "base_uri": "https://localhost:8080/"
        },
        "id": "Q3BcNhv-iNyL",
        "outputId": "c39b9696-7187-4b10-b3d3-10a474f97404"
      },
      "source": [
        "def my_min(*n):\r\n",
        "  return min(n)\r\n",
        "\r\n",
        "my_min(-100)\r\n"
      ],
      "execution_count": 75,
      "outputs": [
        {
          "output_type": "execute_result",
          "data": {
            "text/plain": [
              "-100"
            ]
          },
          "metadata": {
            "tags": []
          },
          "execution_count": 75
        }
      ]
    },
    {
      "cell_type": "code",
      "metadata": {
        "id": "6VGNZidMrmr3"
      },
      "source": [
        ""
      ],
      "execution_count": null,
      "outputs": []
    }
  ]
}