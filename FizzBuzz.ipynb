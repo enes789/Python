{
  "nbformat": 4,
  "nbformat_minor": 0,
  "metadata": {
    "colab": {
      "name": "FizzBuzz",
      "provenance": [],
      "authorship_tag": "ABX9TyPNSZPy/bZYRRFhbKjwph1L",
      "include_colab_link": true
    },
    "kernelspec": {
      "name": "python3",
      "display_name": "Python 3"
    }
  },
  "cells": [
    {
      "cell_type": "markdown",
      "metadata": {
        "id": "view-in-github",
        "colab_type": "text"
      },
      "source": [
        "<a href=\"https://colab.research.google.com/github/enes789/Python/blob/main/FizzBuzz.ipynb\" target=\"_parent\"><img src=\"https://colab.research.google.com/assets/colab-badge.svg\" alt=\"Open In Colab\"/></a>"
      ]
    },
    {
      "cell_type": "code",
      "metadata": {
        "colab": {
          "base_uri": "https://localhost:8080/"
        },
        "id": "AaPcUqCbBP92",
        "outputId": "1d38d9e9-caf8-483b-8595-6906a1e18bcc"
      },
      "source": [
        "n = int(input(\"Enter a value : \"))\r\n",
        "\r\n",
        "for x in range(1, n):\r\n",
        "  \r\n",
        "  if x % 2 == 0:\r\n",
        "    continue\r\n",
        "  elif x % 3 == 0 and x % 5 == 0:\r\n",
        "    print(\"FizzBuzz\")\r\n",
        "  elif x % 3 == 0:\r\n",
        "    print(\"Fizz\")\r\n",
        "  elif x % 5 == 0:\r\n",
        "    print(\"Buzz\")\r\n",
        "  else:\r\n",
        "    print(x)\r\n",
        "\r\n",
        "\r\n"
      ],
      "execution_count": 2,
      "outputs": [
        {
          "output_type": "stream",
          "text": [
            "Enter a value : 100\n",
            "1\n",
            "Fizz\n",
            "Buzz\n",
            "7\n",
            "Fizz\n",
            "11\n",
            "13\n",
            "FizzBuzz\n",
            "17\n",
            "19\n",
            "Fizz\n",
            "23\n",
            "Buzz\n",
            "Fizz\n",
            "29\n",
            "31\n",
            "Fizz\n",
            "Buzz\n",
            "37\n",
            "Fizz\n",
            "41\n",
            "43\n",
            "FizzBuzz\n",
            "47\n",
            "49\n",
            "Fizz\n",
            "53\n",
            "Buzz\n",
            "Fizz\n",
            "59\n",
            "61\n",
            "Fizz\n",
            "Buzz\n",
            "67\n",
            "Fizz\n",
            "71\n",
            "73\n",
            "FizzBuzz\n",
            "77\n",
            "79\n",
            "Fizz\n",
            "83\n",
            "Buzz\n",
            "Fizz\n",
            "89\n",
            "91\n",
            "Fizz\n",
            "Buzz\n",
            "97\n",
            "Fizz\n"
          ],
          "name": "stdout"
        }
      ]
    }
  ]
}