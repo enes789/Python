{
  "nbformat": 4,
  "nbformat_minor": 0,
  "metadata": {
    "colab": {
      "name": "Python Addicts",
      "provenance": [],
      "collapsed_sections": [],
      "authorship_tag": "ABX9TyPPquGm70ZjAWtkaQq16ySp",
      "include_colab_link": true
    },
    "kernelspec": {
      "name": "python3",
      "display_name": "Python 3"
    }
  },
  "cells": [
    {
      "cell_type": "markdown",
      "metadata": {
        "id": "view-in-github",
        "colab_type": "text"
      },
      "source": [
        "<a href=\"https://colab.research.google.com/github/enes789/Python/blob/main/Python_Addicts.ipynb\" target=\"_parent\"><img src=\"https://colab.research.google.com/assets/colab-badge.svg\" alt=\"Open In Colab\"/></a>"
      ]
    },
    {
      "cell_type": "code",
      "metadata": {
        "colab": {
          "base_uri": "https://localhost:8080/",
          "height": 229
        },
        "id": "z-C-r9tI7Bnu",
        "outputId": "a34a90e8-2da5-49ed-b6a5-476c9374ee25"
      },
      "source": [
        "Input = list(input(\"Enter the characters: \"))\n",
        "left = [\"(\", \"[\", \"{\"]\n",
        "right = [\")\", \"]\", \"}\"]\n",
        "even = []\n",
        "for i in range(len(Input)):\n",
        "  if Input[i] in left:\n",
        "    even.append(Input[i])\n",
        "  elif len(even) != 0 and left.index(even[-1]) == right.index(buck[i]):\n",
        "    even.pop()\n",
        "  else:\n",
        "    print(False)\n",
        "\n",
        "if len(even) == 0:\n",
        "  print(True)\n",
        "  "
      ],
      "execution_count": null,
      "outputs": [
        {
          "output_type": "error",
          "ename": "TypeError",
          "evalue": "ignored",
          "traceback": [
            "\u001b[0;31m---------------------------------------------------------------------------\u001b[0m",
            "\u001b[0;31mTypeError\u001b[0m                                 Traceback (most recent call last)",
            "\u001b[0;32m<ipython-input-20-7509b0c7e03f>\u001b[0m in \u001b[0;36m<module>\u001b[0;34m()\u001b[0m\n\u001b[0;32m----> 1\u001b[0;31m \u001b[0mInput\u001b[0m \u001b[0;34m=\u001b[0m \u001b[0mlist\u001b[0m\u001b[0;34m(\u001b[0m\u001b[0minput\u001b[0m\u001b[0;34m(\u001b[0m\u001b[0;34m\"Enter the characters: \"\u001b[0m\u001b[0;34m)\u001b[0m\u001b[0;34m)\u001b[0m\u001b[0;34m\u001b[0m\u001b[0;34m\u001b[0m\u001b[0m\n\u001b[0m\u001b[1;32m      2\u001b[0m \u001b[0mleft\u001b[0m \u001b[0;34m=\u001b[0m \u001b[0;34m[\u001b[0m\u001b[0;34m\"(\"\u001b[0m\u001b[0;34m,\u001b[0m \u001b[0;34m\"[\"\u001b[0m\u001b[0;34m,\u001b[0m \u001b[0;34m\"{\"\u001b[0m\u001b[0;34m]\u001b[0m\u001b[0;34m\u001b[0m\u001b[0;34m\u001b[0m\u001b[0m\n\u001b[1;32m      3\u001b[0m \u001b[0mright\u001b[0m \u001b[0;34m=\u001b[0m \u001b[0;34m[\u001b[0m\u001b[0;34m\")\"\u001b[0m\u001b[0;34m,\u001b[0m \u001b[0;34m\"]\"\u001b[0m\u001b[0;34m,\u001b[0m \u001b[0;34m\"}\"\u001b[0m\u001b[0;34m]\u001b[0m\u001b[0;34m\u001b[0m\u001b[0;34m\u001b[0m\u001b[0m\n\u001b[1;32m      4\u001b[0m \u001b[0meven\u001b[0m \u001b[0;34m=\u001b[0m \u001b[0;34m[\u001b[0m\u001b[0;34m]\u001b[0m\u001b[0;34m\u001b[0m\u001b[0;34m\u001b[0m\u001b[0m\n\u001b[1;32m      5\u001b[0m \u001b[0;32mfor\u001b[0m \u001b[0mi\u001b[0m \u001b[0;32min\u001b[0m \u001b[0mrange\u001b[0m\u001b[0;34m(\u001b[0m\u001b[0mlen\u001b[0m\u001b[0;34m(\u001b[0m\u001b[0mInput\u001b[0m\u001b[0;34m)\u001b[0m\u001b[0;34m)\u001b[0m\u001b[0;34m:\u001b[0m\u001b[0;34m\u001b[0m\u001b[0;34m\u001b[0m\u001b[0m\n",
            "\u001b[0;31mTypeError\u001b[0m: 'str' object is not callable"
          ]
        }
      ]
    },
    {
      "cell_type": "code",
      "metadata": {
        "colab": {
          "base_uri": "https://localhost:8080/"
        },
        "id": "lfa_EqCbxjeG",
        "outputId": "8aa88e82-fac8-4b35-a01f-1027b34330d0"
      },
      "source": [
        "input = \"({[]})\"\n",
        "for i in range(len(input)):\n",
        "  if i % 2 == 0:\n",
        "    if input[i] == \"(\": \n",
        "      if input[i + 1] == \")\":\n",
        "        print(True)\n",
        "      elif input[-1] == \")\":\n",
        "        print(True)\n",
        "      else:\n",
        "        print(False)\n",
        "\n",
        "  if input[i] == \"[\": \n",
        "      if input[i + 1] == \"]\":\n",
        "        print(True)\n",
        "      elif input[-1] == \"]\":\n",
        "        print(True)\n",
        "      else:\n",
        "        print(False)\n",
        "\n",
        "  if input[i] == \"{\": \n",
        "      if input[i + 1] == \"}\":\n",
        "        print(True)\n",
        "      elif input[-1] == \"}\":\n",
        "        print(True)\n",
        "      else:\n",
        "        print(False)\n",
        "  \n",
        "  "
      ],
      "execution_count": null,
      "outputs": [
        {
          "output_type": "stream",
          "text": [
            "True\n",
            "False\n",
            "True\n"
          ],
          "name": "stdout"
        }
      ]
    },
    {
      "cell_type": "code",
      "metadata": {
        "colab": {
          "base_uri": "https://localhost:8080/"
        },
        "id": "h1hsXlXFbDK-",
        "outputId": "79f8fb91-64b5-4245-8cb5-3d3b59ce946c"
      },
      "source": [
        "x = [([1, 2], [3, 4, 5], (6, 7))]\n",
        "print(set(k for i in x for j in i for k in j))"
      ],
      "execution_count": null,
      "outputs": [
        {
          "output_type": "stream",
          "text": [
            "{1, 2, 3, 4, 5, 6, 7}\n"
          ],
          "name": "stdout"
        }
      ]
    },
    {
      "cell_type": "code",
      "metadata": {
        "colab": {
          "base_uri": "https://localhost:8080/"
        },
        "id": "PRKhKqpSbfLo",
        "outputId": "9b518278-58c3-4623-e1a1-152b04e5a87e"
      },
      "source": [
        "x = [([3], [4, 2], (1, 5, 6))]\n",
        "print({k : str(k ** 2) for i in x for j in i for k in j})"
      ],
      "execution_count": null,
      "outputs": [
        {
          "output_type": "stream",
          "text": [
            "{3: '9', 4: '16', 2: '4', 1: '1', 5: '25', 6: '36'}\n"
          ],
          "name": "stdout"
        }
      ]
    },
    {
      "cell_type": "code",
      "metadata": {
        "colab": {
          "base_uri": "https://localhost:8080/",
          "height": 195
        },
        "id": "zhaepq4PYFla",
        "outputId": "a620ed43-a04d-43d6-eb86-d390ad9b3d90"
      },
      "source": [
        "elements = [1, 2, 3]\n",
        "per = []\n",
        "if len(elements) <=1:\n",
        "   print(elements)\n",
        "else:\n",
        "    for perm in elements[1:]:\n",
        "        for i in range(len(elements)):\n",
        "            # nb elements[0:1] works in both string and list contexts\n",
        "            print([perm[:i], elements[0:1], perm[i:]])"
      ],
      "execution_count": null,
      "outputs": [
        {
          "output_type": "error",
          "ename": "TypeError",
          "evalue": "ignored",
          "traceback": [
            "\u001b[0;31m---------------------------------------------------------------------------\u001b[0m",
            "\u001b[0;31mTypeError\u001b[0m                                 Traceback (most recent call last)",
            "\u001b[0;32m<ipython-input-104-8cd7a34538d6>\u001b[0m in \u001b[0;36m<module>\u001b[0;34m()\u001b[0m\n\u001b[1;32m      7\u001b[0m         \u001b[0;32mfor\u001b[0m \u001b[0mi\u001b[0m \u001b[0;32min\u001b[0m \u001b[0mrange\u001b[0m\u001b[0;34m(\u001b[0m\u001b[0mlen\u001b[0m\u001b[0;34m(\u001b[0m\u001b[0melements\u001b[0m\u001b[0;34m)\u001b[0m\u001b[0;34m)\u001b[0m\u001b[0;34m:\u001b[0m\u001b[0;34m\u001b[0m\u001b[0;34m\u001b[0m\u001b[0m\n\u001b[1;32m      8\u001b[0m             \u001b[0;31m# nb elements[0:1] works in both string and list contexts\u001b[0m\u001b[0;34m\u001b[0m\u001b[0;34m\u001b[0m\u001b[0;34m\u001b[0m\u001b[0m\n\u001b[0;32m----> 9\u001b[0;31m             \u001b[0mprint\u001b[0m\u001b[0;34m(\u001b[0m\u001b[0;34m[\u001b[0m\u001b[0mperm\u001b[0m\u001b[0;34m[\u001b[0m\u001b[0;34m:\u001b[0m\u001b[0mi\u001b[0m\u001b[0;34m]\u001b[0m\u001b[0;34m,\u001b[0m \u001b[0melements\u001b[0m\u001b[0;34m[\u001b[0m\u001b[0;36m0\u001b[0m\u001b[0;34m:\u001b[0m\u001b[0;36m1\u001b[0m\u001b[0;34m]\u001b[0m\u001b[0;34m,\u001b[0m \u001b[0mperm\u001b[0m\u001b[0;34m[\u001b[0m\u001b[0mi\u001b[0m\u001b[0;34m:\u001b[0m\u001b[0;34m]\u001b[0m\u001b[0;34m]\u001b[0m\u001b[0;34m)\u001b[0m\u001b[0;34m\u001b[0m\u001b[0;34m\u001b[0m\u001b[0m\n\u001b[0m",
            "\u001b[0;31mTypeError\u001b[0m: 'int' object is not subscriptable"
          ]
        }
      ]
    },
    {
      "cell_type": "code",
      "metadata": {
        "colab": {
          "base_uri": "https://localhost:8080/",
          "height": 128
        },
        "id": "d3ythXCbcT6S",
        "outputId": "ebb91308-b948-4d0d-970e-e4cd477abdf8"
      },
      "source": [
        "input = [1, 2, 3]\n",
        "res = []\n",
        "for i in range(len(input)):\n",
        "  for j in ([input[:i] + input[i + 1:]]):\n",
        "    res.append([input[i]] + j)\n",
        "    for k in reversed([input[:i] + input[i + 1:]]):\n",
        "      res.append([input[i]] + k)\n",
        "      \n",
        "print(res)\n",
        "    \n",
        "         "
      ],
      "execution_count": null,
      "outputs": [
        {
          "output_type": "error",
          "ename": "SyntaxError",
          "evalue": "ignored",
          "traceback": [
            "\u001b[0;36m  File \u001b[0;32m\"<ipython-input-63-cd1a1627bb71>\"\u001b[0;36m, line \u001b[0;32m6\u001b[0m\n\u001b[0;31m    for k in *reversed([input[:i] + input[i + 1:]]):\u001b[0m\n\u001b[0m             ^\u001b[0m\n\u001b[0;31mSyntaxError\u001b[0m\u001b[0;31m:\u001b[0m invalid syntax\n"
          ]
        }
      ]
    },
    {
      "cell_type": "code",
      "metadata": {
        "colab": {
          "base_uri": "https://localhost:8080/"
        },
        "id": "lmS9Az9gfBqz",
        "outputId": "b522195a-e418-4ec7-b4c2-c3c4d8d71535"
      },
      "source": [
        "input = [1, 2, 3]\n",
        "print(input[:2])\n",
        "print(*reversed(input))"
      ],
      "execution_count": null,
      "outputs": [
        {
          "output_type": "stream",
          "text": [
            "[1, 2]\n",
            "3 2 1\n"
          ],
          "name": "stdout"
        }
      ]
    },
    {
      "cell_type": "code",
      "metadata": {
        "colab": {
          "base_uri": "https://localhost:8080/"
        },
        "id": "HxQkjQDJbMDE",
        "outputId": "bb75c66c-7f84-4718-9008-1f7849a6b073"
      },
      "source": [
        "def per(l):\n",
        "    if len(l) == 1:\n",
        "        return [l]\n",
        "    return [[l[i]] + p for i in range(len(l)) for p in per(l[:i] + l[i+1:])]\n",
        "\n",
        "print(per([1, 2, 3, 4]))"
      ],
      "execution_count": null,
      "outputs": [
        {
          "output_type": "stream",
          "text": [
            "[[1, 2, 3, 4], [1, 2, 4, 3], [1, 3, 2, 4], [1, 3, 4, 2], [1, 4, 2, 3], [1, 4, 3, 2], [2, 1, 3, 4], [2, 1, 4, 3], [2, 3, 1, 4], [2, 3, 4, 1], [2, 4, 1, 3], [2, 4, 3, 1], [3, 1, 2, 4], [3, 1, 4, 2], [3, 2, 1, 4], [3, 2, 4, 1], [3, 4, 1, 2], [3, 4, 2, 1], [4, 1, 2, 3], [4, 1, 3, 2], [4, 2, 1, 3], [4, 2, 3, 1], [4, 3, 1, 2], [4, 3, 2, 1]]\n"
          ],
          "name": "stdout"
        }
      ]
    },
    {
      "cell_type": "code",
      "metadata": {
        "colab": {
          "base_uri": "https://localhost:8080/"
        },
        "id": "5OobLZGBgrxm",
        "outputId": "bf5f6419-e33a-49ad-a838-c396091769dd"
      },
      "source": [
        "input = [1, 2, 3, 4]\n",
        "res = []\n",
        "for i in range(len(input)):\n",
        "  for j in [input[:i] + input[i + 1:]]:\n",
        "    res.append([input[i]] + j)\n",
        "    res.append([input[i]] + [*reversed(j)])\n",
        "    \n",
        "print(res)"
      ],
      "execution_count": null,
      "outputs": [
        {
          "output_type": "stream",
          "text": [
            "[[1, 2, 3, 4], [1, 4, 3, 2], [2, 1, 3, 4], [2, 4, 3, 1], [3, 1, 2, 4], [3, 4, 2, 1], [4, 1, 2, 3], [4, 3, 2, 1]]\n"
          ],
          "name": "stdout"
        }
      ]
    },
    {
      "cell_type": "code",
      "metadata": {
        "colab": {
          "base_uri": "https://localhost:8080/"
        },
        "id": "cgPGrPmJldEF",
        "outputId": "55a52172-e9db-499b-bedb-5cc368b27b16"
      },
      "source": [
        "l = [1, 2, 3]\n",
        "print([[l[i]] + p for i in range(len(l)) for p in [l[:i] + l[i+1:]]])"
      ],
      "execution_count": null,
      "outputs": [
        {
          "output_type": "stream",
          "text": [
            "[[1, 2, 3], [2, 1, 3], [3, 1, 2]]\n"
          ],
          "name": "stdout"
        }
      ]
    },
    {
      "cell_type": "code",
      "metadata": {
        "colab": {
          "base_uri": "https://localhost:8080/",
          "height": 212
        },
        "id": "nQ9LLSrYrEJq",
        "outputId": "a4f11416-4baf-4f10-f36b-64e70a5342fe"
      },
      "source": [
        "def per(l):\n",
        "    if len(l) == 1:\n",
        "        return [l]\n",
        "    return [[l[i]] + p for i in range(len(l)) for p in per(l[:i] + l[i+1:])]\n",
        "   \n",
        "print(per([1, 2, 3]))\n"
      ],
      "execution_count": null,
      "outputs": [
        {
          "output_type": "stream",
          "text": [
            "[[1, 2, 3], [1, 3, 2], [2, 1, 3], [2, 3, 1], [3, 1, 2], [3, 2, 1]]\n"
          ],
          "name": "stdout"
        },
        {
          "output_type": "error",
          "ename": "NameError",
          "evalue": "ignored",
          "traceback": [
            "\u001b[0;31m---------------------------------------------------------------------------\u001b[0m",
            "\u001b[0;31mNameError\u001b[0m                                 Traceback (most recent call last)",
            "\u001b[0;32m<ipython-input-81-db2c9e462fb5>\u001b[0m in \u001b[0;36m<module>\u001b[0;34m()\u001b[0m\n\u001b[1;32m      5\u001b[0m     \u001b[0;32mreturn\u001b[0m \u001b[0mp\u001b[0m\u001b[0;34m\u001b[0m\u001b[0;34m\u001b[0m\u001b[0m\n\u001b[1;32m      6\u001b[0m \u001b[0mprint\u001b[0m\u001b[0;34m(\u001b[0m\u001b[0mper\u001b[0m\u001b[0;34m(\u001b[0m\u001b[0;34m[\u001b[0m\u001b[0;36m1\u001b[0m\u001b[0;34m,\u001b[0m \u001b[0;36m2\u001b[0m\u001b[0;34m,\u001b[0m \u001b[0;36m3\u001b[0m\u001b[0;34m]\u001b[0m\u001b[0;34m)\u001b[0m\u001b[0;34m)\u001b[0m\u001b[0;34m\u001b[0m\u001b[0;34m\u001b[0m\u001b[0m\n\u001b[0;32m----> 7\u001b[0;31m \u001b[0mprint\u001b[0m\u001b[0;34m(\u001b[0m\u001b[0mp\u001b[0m\u001b[0;34m)\u001b[0m\u001b[0;34m\u001b[0m\u001b[0;34m\u001b[0m\u001b[0m\n\u001b[0m",
            "\u001b[0;31mNameError\u001b[0m: name 'p' is not defined"
          ]
        }
      ]
    },
    {
      "cell_type": "code",
      "metadata": {
        "colab": {
          "base_uri": "https://localhost:8080/"
        },
        "id": "igAQTjXDUZWR",
        "outputId": "816d5123-6abc-4801-d58b-59d6b03967a0"
      },
      "source": [
        "def permutation(lst): \n",
        "    if len(lst) == 0: \n",
        "        return [] \n",
        "    if len(lst) == 1: \n",
        "        return [lst] \n",
        "    l = []  \n",
        "    for i in range(len(lst)): \n",
        "       m = lst[i] \n",
        "       remLst = lst[:i] + lst[i+1:] \n",
        "       for p in permutation(remLst): \n",
        "           l.append([m] + p)\n",
        "           print(p) \n",
        "    return l \n",
        "   \n",
        "print(permutation([1, 2, 3]))"
      ],
      "execution_count": null,
      "outputs": [
        {
          "output_type": "stream",
          "text": [
            "[3]\n",
            "[2]\n",
            "[2, 3]\n",
            "[3, 2]\n",
            "[3]\n",
            "[1]\n",
            "[1, 3]\n",
            "[3, 1]\n",
            "[2]\n",
            "[1]\n",
            "[1, 2]\n",
            "[2, 1]\n",
            "[[1, 2, 3], [1, 3, 2], [2, 1, 3], [2, 3, 1], [3, 1, 2], [3, 2, 1]]\n"
          ],
          "name": "stdout"
        }
      ]
    },
    {
      "cell_type": "code",
      "metadata": {
        "id": "f-LiYEVHW-R-"
      },
      "source": [
        ""
      ],
      "execution_count": null,
      "outputs": []
    }
  ]
}