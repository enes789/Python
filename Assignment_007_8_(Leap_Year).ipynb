{
  "nbformat": 4,
  "nbformat_minor": 0,
  "metadata": {
    "colab": {
      "name": "Assignment - 007/8 (Leap Year)",
      "provenance": [],
      "authorship_tag": "ABX9TyNY64btBhCDb5aHgEuKR9nX",
      "include_colab_link": true
    },
    "kernelspec": {
      "name": "python3",
      "display_name": "Python 3"
    }
  },
  "cells": [
    {
      "cell_type": "markdown",
      "metadata": {
        "id": "view-in-github",
        "colab_type": "text"
      },
      "source": [
        "<a href=\"https://colab.research.google.com/github/enes789/Python/blob/main/Assignment_007_8_(Leap_Year).ipynb\" target=\"_parent\"><img src=\"https://colab.research.google.com/assets/colab-badge.svg\" alt=\"Open In Colab\"/></a>"
      ]
    },
    {
      "cell_type": "code",
      "metadata": {
        "colab": {
          "base_uri": "https://localhost:8080/"
        },
        "id": "tWCf0BmTQDlj",
        "outputId": "fdc98189-5ffd-42b0-d74d-6303bc70564b"
      },
      "source": [
        "year = int(input(\"Enter a year: \"))\r\n",
        "if year % 4 == 0:\r\n",
        "  if year % 400 == 0:\r\n",
        "    print(f\"{year} is a leap year\")\r\n",
        "  elif year % 100 == 0:\r\n",
        "    print(f\"{year} is a not leap year\")\r\n",
        "  else:\r\n",
        "    print(f\"{year} is a leap year\")\r\n",
        "else:\r\n",
        "  print(f\"{year} is a not leap year\")"
      ],
      "execution_count": 9,
      "outputs": [
        {
          "output_type": "stream",
          "text": [
            "Enter a year: 2400\n",
            "2400 is a leap year\n"
          ],
          "name": "stdout"
        }
      ]
    },
    {
      "cell_type": "code",
      "metadata": {
        "id": "2ZBAUcFxQOk_"
      },
      "source": [
        ""
      ],
      "execution_count": null,
      "outputs": []
    }
  ]
}