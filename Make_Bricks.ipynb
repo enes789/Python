{
  "nbformat": 4,
  "nbformat_minor": 0,
  "metadata": {
    "colab": {
      "name": "Make_Bricks",
      "provenance": [],
      "authorship_tag": "ABX9TyP8xA19ZGkfa6TnUIFD8MI9",
      "include_colab_link": true
    },
    "kernelspec": {
      "name": "python3",
      "display_name": "Python 3"
    }
  },
  "cells": [
    {
      "cell_type": "markdown",
      "metadata": {
        "id": "view-in-github",
        "colab_type": "text"
      },
      "source": [
        "<a href=\"https://colab.research.google.com/github/enes789/Python/blob/main/Make_Bricks.ipynb\" target=\"_parent\"><img src=\"https://colab.research.google.com/assets/colab-badge.svg\" alt=\"Open In Colab\"/></a>"
      ]
    },
    {
      "cell_type": "code",
      "metadata": {
        "id": "pKKpZ7EC86XZ"
      },
      "source": [
        "\"\"\"We want to make a row of bricks that is goal inches long.\r\n",
        " We have a number of small bricks (1 inch each) and big bricks (5 inches each). \r\n",
        " Return True if it is possible to make the goal by choosing from the given bricks.\"\"\"\r\n",
        "\r\n",
        "def make_bricks(small, big, goal):\r\n",
        "  if (small + big *5) < goal or goal % 5 > small:\r\n",
        "    return False\r\n",
        "  else:\r\n",
        "    return True"
      ],
      "execution_count": 3,
      "outputs": []
    }
  ]
}