{
  "nbformat": 4,
  "nbformat_minor": 0,
  "metadata": {
    "colab": {
      "name": "Assignment-007/2 (Profit Calculation)",
      "provenance": [],
      "collapsed_sections": [],
      "authorship_tag": "ABX9TyOtvgFNd3ex3aFLEmdrgLW4",
      "include_colab_link": true
    },
    "kernelspec": {
      "name": "python3",
      "display_name": "Python 3"
    }
  },
  "cells": [
    {
      "cell_type": "markdown",
      "metadata": {
        "id": "view-in-github",
        "colab_type": "text"
      },
      "source": [
        "<a href=\"https://colab.research.google.com/github/enes789/Python/blob/main/Assignment_007_2_(Profit_Calculation).ipynb\" target=\"_parent\"><img src=\"https://colab.research.google.com/assets/colab-badge.svg\" alt=\"Open In Colab\"/></a>"
      ]
    },
    {
      "cell_type": "code",
      "metadata": {
        "colab": {
          "base_uri": "https://localhost:8080/"
        },
        "id": "aWG177eudVRg",
        "outputId": "1280c2a3-09c2-4478-f1b2-d70b71329e0a"
      },
      "source": [
        "sales = {\r\n",
        "  \"cost_value\": 31.87,\r\n",
        "  \"sell_value\": 45.00,\r\n",
        "  \"inventory\": 1000\r\n",
        "} \r\n",
        "total_profit = (sales[\"sell_value\"] - sales[\"cost_value\"]) * sales[\"inventory\"]\r\n",
        "print(total_profit)"
      ],
      "execution_count": 4,
      "outputs": [
        {
          "output_type": "stream",
          "text": [
            "13129.999999999998\n"
          ],
          "name": "stdout"
        }
      ]
    },
    {
      "cell_type": "code",
      "metadata": {
        "colab": {
          "base_uri": "https://localhost:8080/"
        },
        "id": "hF3JUnVufqJP",
        "outputId": "0b51b843-fee2-4859-c463-b063c9f63ab1"
      },
      "source": [
        "amount = float(input(\"Enter amount you want to convert : \"))\r\n",
        "\r\n",
        "print(\"$\", amount)"
      ],
      "execution_count": 23,
      "outputs": [
        {
          "output_type": "stream",
          "text": [
            "Enter amount you want to convert : 3\n",
            "$ 3.0\n"
          ],
          "name": "stdout"
        }
      ]
    }
  ]
}