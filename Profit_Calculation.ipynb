{
  "nbformat": 4,
  "nbformat_minor": 0,
  "metadata": {
    "colab": {
      "name": "Assignment-007/2 (Profit Calculation)",
      "provenance": [],
      "collapsed_sections": [],
      "authorship_tag": "ABX9TyMaEsJ9RztRpuN/e/zTZ2Ku",
      "include_colab_link": true
    },
    "kernelspec": {
      "name": "python3",
      "display_name": "Python 3"
    }
  },
  "cells": [
    {
      "cell_type": "markdown",
      "metadata": {
        "id": "view-in-github",
        "colab_type": "text"
      },
      "source": [
        "<a href=\"https://colab.research.google.com/github/enes789/Python/blob/main/Assignment_007_2_(Profit_Calculation).ipynb\" target=\"_parent\"><img src=\"https://colab.research.google.com/assets/colab-badge.svg\" alt=\"Open In Colab\"/></a>"
      ]
    },
    {
      "cell_type": "code",
      "metadata": {
        "colab": {
          "base_uri": "https://localhost:8080/"
        },
        "id": "aWG177eudVRg",
        "outputId": "3505e876-e044-48ed-d161-98975c1d7be4"
      },
      "source": [
        "sales = {\r\n",
        "  \"cost_value\": 31.87,\r\n",
        "  \"sell_value\": 45.00,\r\n",
        "  \"inventory\": 1000\r\n",
        "} \r\n",
        "total_profit = (sales[\"sell_value\"] - sales[\"cost_value\"]) * sales[\"inventory\"]\r\n",
        "print(total_profit)\r\n",
        "print(round(total_profit))"
      ],
      "execution_count": 13,
      "outputs": [
        {
          "output_type": "stream",
          "text": [
            "13129.999999999998\n",
            "13130\n"
          ],
          "name": "stdout"
        }
      ]
    },
    {
      "cell_type": "code",
      "metadata": {
        "colab": {
          "base_uri": "https://localhost:8080/"
        },
        "id": "hF3JUnVufqJP",
        "outputId": "7a3adfa0-b680-4fab-c9b3-edc6063d89f8"
      },
      "source": [
        "amount = float(input(\"Enter amount you want to convert : \"))\r\n",
        "print(\"$\", '%.2f' % amount)\r\n",
        "print(\"$\", \"{:.4f}\".format(amount))\r\n",
        "\r\n",
        "print(\"$\", amount)"
      ],
      "execution_count": 11,
      "outputs": [
        {
          "output_type": "stream",
          "text": [
            "Enter amount you want to convert : 23.34\n",
            "$ 23.34\n",
            "$ 23.3400\n",
            "$ 23.34\n"
          ],
          "name": "stdout"
        }
      ]
    }
  ]
}
