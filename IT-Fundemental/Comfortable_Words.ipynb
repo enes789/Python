{
  "nbformat": 4,
  "nbformat_minor": 0,
  "metadata": {
    "colab": {
      "name": "Comfortable_Words",
      "provenance": [],
      "authorship_tag": "ABX9TyNNl0OT8ZjOWJS6w5pu7cRR",
      "include_colab_link": true
    },
    "kernelspec": {
      "name": "python3",
      "display_name": "Python 3"
    }
  },
  "cells": [
    {
      "cell_type": "markdown",
      "metadata": {
        "id": "view-in-github",
        "colab_type": "text"
      },
      "source": [
        "<a href=\"https://colab.research.google.com/github/enes789/Python/blob/main/Comfortable_Words.ipynb\" target=\"_parent\"><img src=\"https://colab.research.google.com/assets/colab-badge.svg\" alt=\"Open In Colab\"/></a>"
      ]
    },
    {
      "cell_type": "code",
      "metadata": {
        "id": "As0iTs1xLAg0"
      },
      "source": [
        "left_hand = set(\"qwertasdfgzxcvb\")\r\n",
        "right_hand = set(\"yuıophjklnm\")\r\n",
        "\r\n",
        "word = set(input(\"Type a word and find out comfortable word :\"))\r\n",
        "\r\n",
        "left_result = word.difference(left_hand)\r\n",
        "right_result = word.difference(right_hand)\r\n",
        "\r\n",
        "print(bool(left_result) and bool(right_result))"
      ],
      "execution_count": null,
      "outputs": []
    }
  ]
}