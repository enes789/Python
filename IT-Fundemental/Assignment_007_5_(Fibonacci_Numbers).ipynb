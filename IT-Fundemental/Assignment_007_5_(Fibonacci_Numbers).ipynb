{
  "nbformat": 4,
  "nbformat_minor": 0,
  "metadata": {
    "colab": {
      "name": "Assignment - 007/5 (Fibonacci Numbers)",
      "provenance": [],
      "authorship_tag": "ABX9TyODJ3VWwLzUv91LFG/WYY6N",
      "include_colab_link": true
    },
    "kernelspec": {
      "name": "python3",
      "display_name": "Python 3"
    }
  },
  "cells": [
    {
      "cell_type": "markdown",
      "metadata": {
        "id": "view-in-github",
        "colab_type": "text"
      },
      "source": [
        "<a href=\"https://colab.research.google.com/github/enes789/Python/blob/main/Assignment_007_5_(Fibonacci_Numbers).ipynb\" target=\"_parent\"><img src=\"https://colab.research.google.com/assets/colab-badge.svg\" alt=\"Open In Colab\"/></a>"
      ]
    },
    {
      "cell_type": "code",
      "metadata": {
        "colab": {
          "base_uri": "https://localhost:8080/"
        },
        "id": "B9AV4t2LGnQk",
        "outputId": "27255af9-3622-46cf-b12f-78510e0c0ac4"
      },
      "source": [
        "fibonacci = []\r\n",
        "a, b = 0, 1\r\n",
        "\r\n",
        "while b < 56:\r\n",
        "  a, b = b, a + b\r\n",
        "  fibonacci.append(a)\r\n",
        "\r\n",
        "print(fibonacci) "
      ],
      "execution_count": 4,
      "outputs": [
        {
          "output_type": "stream",
          "text": [
            "[1, 1, 2, 3, 5, 8, 13, 21, 34, 55]\n"
          ],
          "name": "stdout"
        }
      ]
    },
    {
      "cell_type": "code",
      "metadata": {
        "id": "uHNLLj_sHGBs"
      },
      "source": [
        ""
      ],
      "execution_count": null,
      "outputs": []
    }
  ]
}