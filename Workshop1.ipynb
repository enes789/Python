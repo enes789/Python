{
  "nbformat": 4,
  "nbformat_minor": 0,
  "metadata": {
    "colab": {
      "name": "Workshop1",
      "provenance": [],
      "collapsed_sections": [],
      "authorship_tag": "ABX9TyPw2tq3ESg46ikbQjqW0vGv",
      "include_colab_link": true
    },
    "kernelspec": {
      "name": "python3",
      "display_name": "Python 3"
    }
  },
  "cells": [
    {
      "cell_type": "markdown",
      "metadata": {
        "id": "view-in-github",
        "colab_type": "text"
      },
      "source": [
        "<a href=\"https://colab.research.google.com/github/enes789/Python/blob/main/Workshop1.ipynb\" target=\"_parent\"><img src=\"https://colab.research.google.com/assets/colab-badge.svg\" alt=\"Open In Colab\"/></a>"
      ]
    },
    {
      "cell_type": "code",
      "metadata": {
        "colab": {
          "base_uri": "https://localhost:8080/"
        },
        "id": "gUJwCf5yxC2Y",
        "outputId": "108209de-358c-454f-e444-26d006cb67cc"
      },
      "source": [
        "Ad=input(\"Adınız: \")\r\n",
        "Soyad=input(\"Soyadınız: \")\r\n",
        "Telefon=int(input(\"Telofonunuz: \"))\r\n",
        "print(f\"Ad : {Ad}\\nSoyad: {Soyad}\\nTelefon: {Telefon}\")"
      ],
      "execution_count": 1,
      "outputs": [
        {
          "output_type": "stream",
          "text": [
            "Adınız: enes\n",
            "Soyadınız: demir\n",
            "Telofonunuz: 543\n",
            "Ad : enes\n",
            "Soyad: demir\n",
            "Telefon: 543\n"
          ],
          "name": "stdout"
        }
      ]
    },
    {
      "cell_type": "code",
      "metadata": {
        "colab": {
          "base_uri": "https://localhost:8080/"
        },
        "id": "AM7zY8t8yL2P",
        "outputId": "4e6175c2-ce61-4a65-aceb-5390869bfbdc"
      },
      "source": [
        "word = input(\"Word: \")\r\n",
        "seperator = input(\"Seperator: \")\r\n",
        "repetitions = int(input(\"repetitions: \"))\r\n",
        "result = (word + seperator) * (repetitions - 1) + word\r\n",
        "print(result)"
      ],
      "execution_count": 3,
      "outputs": [
        {
          "output_type": "stream",
          "text": [
            "Word: elif\n",
            "Seperator: +\n",
            "repetitions: 5\n",
            "elif+elif+elif+elif+elif\n"
          ],
          "name": "stdout"
        }
      ]
    },
    {
      "cell_type": "code",
      "metadata": {
        "colab": {
          "base_uri": "https://localhost:8080/"
        },
        "id": "5PIU1BrQzHFQ",
        "outputId": "be594f94-feb9-454a-a654-515057d6a8c6"
      },
      "source": [
        "print(*list([word] * repetitions), sep=seperator)"
      ],
      "execution_count": 4,
      "outputs": [
        {
          "output_type": "stream",
          "text": [
            "elif+elif+elif+elif+elif\n"
          ],
          "name": "stdout"
        }
      ]
    },
    {
      "cell_type": "code",
      "metadata": {
        "colab": {
          "base_uri": "https://localhost:8080/",
          "height": 69
        },
        "id": "pQjc7P7PzcOG",
        "outputId": "5571fd01-5653-4e04-bcb0-339efbd3c9c6"
      },
      "source": [
        "word = input(\"Word: \")\r\n",
        "n = int(input(\"Enter a number : \"))\r\n",
        "a = len(word)\r\n",
        "result = word[a-n:] * n\r\n",
        "result"
      ],
      "execution_count": 11,
      "outputs": [
        {
          "output_type": "stream",
          "text": [
            "Word: clarusway\n",
            "Enter a number : 4\n"
          ],
          "name": "stdout"
        },
        {
          "output_type": "execute_result",
          "data": {
            "application/vnd.google.colaboratory.intrinsic+json": {
              "type": "string"
            },
            "text/plain": [
              "'swayswayswaysway'"
            ]
          },
          "metadata": {
            "tags": []
          },
          "execution_count": 11
        }
      ]
    },
    {
      "cell_type": "code",
      "metadata": {
        "colab": {
          "base_uri": "https://localhost:8080/"
        },
        "id": "quVhIsVL08nJ",
        "outputId": "669ae5cf-5360-429e-fef9-3c82d768c79e"
      },
      "source": [
        "a = int(input(\"Enter a number: \"))\r\n",
        "if a % 3 == 0 and a % 5 != 0:\r\n",
        "  print(\"Clarus\")\r\n",
        "elif a % 5 == 0 and a % 3 != 0:\r\n",
        "  print(\"way\")\r\n",
        "elif a % 3 == 0 and a % 5 == 0:\r\n",
        "  print(\"Clarusway\")\r\n",
        "else:\r\n",
        "  print(a)"
      ],
      "execution_count": 16,
      "outputs": [
        {
          "output_type": "stream",
          "text": [
            "Enter a number: 22\n",
            "22\n"
          ],
          "name": "stdout"
        }
      ]
    },
    {
      "cell_type": "code",
      "metadata": {
        "colab": {
          "base_uri": "https://localhost:8080/"
        },
        "id": "xfd3FkAB2TQC",
        "outputId": "a09b0fcf-663c-4fc9-888d-1915d5d91bb4"
      },
      "source": [
        "num = int(input(\"Birsayı girin: \"))\r\n",
        "\r\n",
        "print(num % 3 == 0) # False = 0 True = 1\r\n",
        "print(num % 5 == 0)\r\n",
        "print('Clarus' * (num % 3 == 0) + 'way' * (num % 5 == 0) or num)"
      ],
      "execution_count": 19,
      "outputs": [
        {
          "output_type": "stream",
          "text": [
            "Birsayı girin: 10\n",
            "False\n",
            "True\n",
            "way\n"
          ],
          "name": "stdout"
        }
      ]
    },
    {
      "cell_type": "code",
      "metadata": {
        "colab": {
          "base_uri": "https://localhost:8080/"
        },
        "id": "AO1MXVD12jI-",
        "outputId": "dcec589c-9090-40c8-9688-4a0ffca650c5"
      },
      "source": [
        "print(\"way\" * False)"
      ],
      "execution_count": 21,
      "outputs": [
        {
          "output_type": "stream",
          "text": [
            "\n"
          ],
          "name": "stdout"
        }
      ]
    },
    {
      "cell_type": "code",
      "metadata": {
        "colab": {
          "base_uri": "https://localhost:8080/"
        },
        "id": "nQxteth_20Cf",
        "outputId": "f709b914-d617-4d55-e5cb-6b1ff34a52ec"
      },
      "source": [
        "letters = \"abclarusxyz\"\r\n",
        "print(letters.lstrip(\"ab\").rstrip(\"xyz\"))\r\n"
      ],
      "execution_count": 30,
      "outputs": [
        {
          "output_type": "stream",
          "text": [
            "clarus\n"
          ],
          "name": "stdout"
        }
      ]
    },
    {
      "cell_type": "code",
      "metadata": {
        "colab": {
          "base_uri": "https://localhost:8080/"
        },
        "id": "NQypx_Gs4tIw",
        "outputId": "b9aad235-aecf-43a4-8fde-e1f0021280aa"
      },
      "source": [
        "rand = [1,[1, 2, \"Clarus\", [2, \"way\"]], \" is the best\"]\r\n",
        "print(rand[1][2] + rand[1][3][1] + rand[2])"
      ],
      "execution_count": 31,
      "outputs": [
        {
          "output_type": "stream",
          "text": [
            "Clarusway is the best\n"
          ],
          "name": "stdout"
        }
      ]
    },
    {
      "cell_type": "code",
      "metadata": {
        "colab": {
          "base_uri": "https://localhost:8080/"
        },
        "id": "IdqomIHh5PR5",
        "outputId": "94b63824-11ef-42e0-87c5-1d047109d600"
      },
      "source": [
        "num_list = [2, 3, 1, 5, 6, 4, 9, 8, 10]\r\n",
        "num_set = set(num_list)\r\n",
        "new_set = set(range(1, 11))\r\n",
        "num_list.sort()\r\n",
        "\r\n",
        "print(num_list)\r\n",
        "print(new_set - num_set)\r\n"
      ],
      "execution_count": 41,
      "outputs": [
        {
          "output_type": "stream",
          "text": [
            "[1, 2, 3, 4, 5, 6, 8, 9, 10]\n",
            "{7}\n"
          ],
          "name": "stdout"
        }
      ]
    },
    {
      "cell_type": "code",
      "metadata": {
        "colab": {
          "base_uri": "https://localhost:8080/"
        },
        "id": "lz_SHNi56uFX",
        "outputId": "73338a35-396f-4995-90b9-7142aea88d27"
      },
      "source": [
        "old ={\r\n",
        "  \"Emma\": 71,\r\n",
        "  \"Jack\": 45,\r\n",
        "  \"Amy\": 15,\r\n",
        "  \"Ben\": 29\r\n",
        "}\r\n",
        "old_person = max(old, key = old.get)\r\n",
        "print(old_person)"
      ],
      "execution_count": 55,
      "outputs": [
        {
          "output_type": "stream",
          "text": [
            "Emma\n"
          ],
          "name": "stdout"
        }
      ]
    },
    {
      "cell_type": "code",
      "metadata": {
        "colab": {
          "base_uri": "https://localhost:8080/"
        },
        "id": "4-QNK73B8Y7U",
        "outputId": "8a58752b-2016-4fe0-8595-31c5b00a5066"
      },
      "source": [
        "old ={\r\n",
        "  \"Emma\": 71,\r\n",
        "  \"Jack\": 45,\r\n",
        "  \"Amy\": 15,\r\n",
        "  \"Ben\": 29\r\n",
        "}\r\n",
        "old_person = max(old, key = lambda k: old[k])\r\n",
        "print(old_person)\r\n"
      ],
      "execution_count": 49,
      "outputs": [
        {
          "output_type": "stream",
          "text": [
            "Emma\n"
          ],
          "name": "stdout"
        }
      ]
    },
    {
      "cell_type": "code",
      "metadata": {
        "colab": {
          "base_uri": "https://localhost:8080/"
        },
        "id": "QBuWNXdk9y5K",
        "outputId": "f876ecbb-d7af-41da-be08-5a0eb9c287d7"
      },
      "source": [
        "car = {\r\n",
        "  \"brand\": \"Ford\",\r\n",
        "  \"model\": \"Mustang\",\r\n",
        "  \"year\": 1964\r\n",
        "}\r\n",
        "print(car.get(\"brand\"))"
      ],
      "execution_count": 52,
      "outputs": [
        {
          "output_type": "stream",
          "text": [
            "Ford\n"
          ],
          "name": "stdout"
        }
      ]
    }
  ]
}