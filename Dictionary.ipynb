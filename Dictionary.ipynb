{
  "nbformat": 4,
  "nbformat_minor": 0,
  "metadata": {
    "colab": {
      "name": "Dictionary",
      "provenance": [],
      "collapsed_sections": [],
      "authorship_tag": "ABX9TyPsJQTAycK1T0kDMcP5ZOqa",
      "include_colab_link": true
    },
    "kernelspec": {
      "name": "python3",
      "display_name": "Python 3"
    }
  },
  "cells": [
    {
      "cell_type": "markdown",
      "metadata": {
        "id": "view-in-github",
        "colab_type": "text"
      },
      "source": [
        "<a href=\"https://colab.research.google.com/github/enes789/Python/blob/main/Dictionary.ipynb\" target=\"_parent\"><img src=\"https://colab.research.google.com/assets/colab-badge.svg\" alt=\"Open In Colab\"/></a>"
      ]
    },
    {
      "cell_type": "code",
      "metadata": {
        "colab": {
          "base_uri": "https://localhost:8080/"
        },
        "id": "iQPvUQ3rjsq2",
        "outputId": "7b2d6652-e78e-44e9-8af9-17064dbdb0f8"
      },
      "source": [
        "dict1 = {\"Susan\" : 45, \"Tim\" : 35, \"Tina\" : 70, \"Tom\" : 65, \"Tony\" : 40}\r\n",
        "print({k:v + 10 for (k,v) in dict1.items()})\r\n"
      ],
      "execution_count": 4,
      "outputs": [
        {
          "output_type": "stream",
          "text": [
            "{'Susan': 55, 'Tim': 45, 'Tina': 80, 'Tom': 75, 'Tony': 50}\n"
          ],
          "name": "stdout"
        }
      ]
    }
  ]
}