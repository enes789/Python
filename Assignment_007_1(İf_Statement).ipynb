{
  "nbformat": 4,
  "nbformat_minor": 0,
  "metadata": {
    "colab": {
      "name": "Assignment 007/1(İf Statement)",
      "provenance": [],
      "authorship_tag": "ABX9TyOoTaHxuXnZXLFA62JBq/xM",
      "include_colab_link": true
    },
    "kernelspec": {
      "name": "python3",
      "display_name": "Python 3"
    }
  },
  "cells": [
    {
      "cell_type": "markdown",
      "metadata": {
        "id": "view-in-github",
        "colab_type": "text"
      },
      "source": [
        "<a href=\"https://colab.research.google.com/github/enes789/Python/blob/main/Assignment_007_1(%C4%B0f_Statement).ipynb\" target=\"_parent\"><img src=\"https://colab.research.google.com/assets/colab-badge.svg\" alt=\"Open In Colab\"/></a>"
      ]
    },
    {
      "cell_type": "code",
      "metadata": {
        "colab": {
          "base_uri": "https://localhost:8080/"
        },
        "id": "8t-0DtH1iNtP",
        "outputId": "ec1e297d-824b-4649-a636-1383bcc5ef04"
      },
      "source": [
        "name = input(\"Enter your name: \").capitalize()\r\n",
        "if name == \"Enes\":\r\n",
        "  print(f\"Hello, {name}! The password is : E789\")\r\n",
        "else:\r\n",
        "  print(f\"Hello, {name}! See you later.\")"
      ],
      "execution_count": 6,
      "outputs": [
        {
          "output_type": "stream",
          "text": [
            "Enter your name: lif\n",
            "Hello, Lif! See you later.\n"
          ],
          "name": "stdout"
        }
      ]
    }
  ]
}