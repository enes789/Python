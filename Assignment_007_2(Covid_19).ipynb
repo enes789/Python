{
  "nbformat": 4,
  "nbformat_minor": 0,
  "metadata": {
    "colab": {
      "name": "Assignment 007/2(Covid-19)",
      "provenance": [],
      "authorship_tag": "ABX9TyOzE9iadTB+7+UWvmAi4cgT",
      "include_colab_link": true
    },
    "kernelspec": {
      "name": "python3",
      "display_name": "Python 3"
    }
  },
  "cells": [
    {
      "cell_type": "markdown",
      "metadata": {
        "id": "view-in-github",
        "colab_type": "text"
      },
      "source": [
        "<a href=\"https://colab.research.google.com/github/enes789/Python/blob/main/Assignment_007_2(Covid_19).ipynb\" target=\"_parent\"><img src=\"https://colab.research.google.com/assets/colab-badge.svg\" alt=\"Open In Colab\"/></a>"
      ]
    },
    {
      "cell_type": "code",
      "metadata": {
        "colab": {
          "base_uri": "https://localhost:8080/"
        },
        "id": "QuL1jHCLlRR_",
        "outputId": "498b6a77-6b73-41f8-a74f-f95ba69dc3d1"
      },
      "source": [
        "age = int(input(\"Are you a cigarette addict older than 75 years old?: \"))\r\n",
        "chronic = input(\"Do you have a severe chronic disease?(Yes/No): \").capitalize().strip()\r\n",
        "immune = input(\"Is your immune system too weak?(Yes/No): \").capitalize().strip()\r\n",
        "if age > 75 or chronic == \"Yes\" or immune == \"Yes\":\r\n",
        "    print(\"You are in risky group\")\r\n",
        "else:\r\n",
        "    print(\"You are not in risky group\")"
      ],
      "execution_count": 3,
      "outputs": [
        {
          "output_type": "stream",
          "text": [
            "Are you a cigarette addict older than 75 years old?: 23\n",
            "Do you have a severe chronic disease?(Yes/No): yes\n",
            "Is your immune system too weak?(Yes/No): no\n",
            "You are in risky group\n"
          ],
          "name": "stdout"
        }
      ]
    }
  ]
}