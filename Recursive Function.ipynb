{
  "nbformat": 4,
  "nbformat_minor": 0,
  "metadata": {
    "colab": {
      "name": "Lesson _Exercise_5",
      "provenance": [],
      "authorship_tag": "ABX9TyMSGms/AHiluffNAaCNd8lW",
      "include_colab_link": true
    },
    "kernelspec": {
      "name": "python3",
      "display_name": "Python 3"
    }
  },
  "cells": [
    {
      "cell_type": "markdown",
      "metadata": {
        "id": "view-in-github",
        "colab_type": "text"
      },
      "source": [
        "<a href=\"https://colab.research.google.com/github/enes789/Python/blob/main/Recursive%20Function.ipynb\" target=\"_parent\"><img src=\"https://colab.research.google.com/assets/colab-badge.svg\" alt=\"Open In Colab\"/></a>"
      ]
    },
    {
      "cell_type": "code",
      "metadata": {
        "colab": {
          "base_uri": "https://localhost:8080/"
        },
        "id": "jERjMzUnwhGA",
        "outputId": "9df5d037-44ac-4c83-e9f1-21cc90d52364"
      },
      "source": [
        "def my_factorial(n):\r\n",
        "  if n == 0:\r\n",
        "    return 1\r\n",
        "  else:\r\n",
        "    return n * my_factorial(n - 1)\r\n",
        "  \r\n",
        "my_factorial(4)"
      ],
      "execution_count": 41,
      "outputs": [
        {
          "output_type": "execute_result",
          "data": {
            "text/plain": [
              "24"
            ]
          },
          "metadata": {
            "tags": []
          },
          "execution_count": 41
        }
      ]
    },
    {
      "cell_type": "code",
      "metadata": {
        "colab": {
          "base_uri": "https://localhost:8080/"
        },
        "id": "WONYKsF1J7jI",
        "outputId": "57f1f722-e788-45c6-d57e-12ee4999b334"
      },
      "source": [
        "try:\r\n",
        "  with open(\"my_file.txt\", \"r\") as file:\r\n",
        "    print(file.read())\r\n",
        "except:\r\n",
        "  print(\"There is not such a this file\")"
      ],
      "execution_count": 3,
      "outputs": [
        {
          "output_type": "stream",
          "text": [
            "There is not such a this file\n"
          ],
          "name": "stdout"
        }
      ]
    },
    {
      "cell_type": "code",
      "metadata": {
        "colab": {
          "base_uri": "https://localhost:8080/"
        },
        "id": "wOuTiMHXK3Uj",
        "outputId": "864edd64-1576-400d-dab6-997f72a26ebc"
      },
      "source": [
        "try:\r\n",
        "  with open(\"my_file.txt\", \"r\") as file:\r\n",
        "    print(file.read())\r\n",
        "except FileNotFoundError:\r\n",
        "  print(\"There is not such a this file\")"
      ],
      "execution_count": 7,
      "outputs": [
        {
          "output_type": "stream",
          "text": [
            "There is not such a this file\n"
          ],
          "name": "stdout"
        }
      ]
    },
    {
      "cell_type": "code",
      "metadata": {
        "colab": {
          "base_uri": "https://localhost:8080/"
        },
        "id": "SE9oixDCLJ2z",
        "outputId": "c7b81d5f-1d48-4cc1-ccbf-44d29a68ad47"
      },
      "source": [
        "try:\r\n",
        "  \"a\" + 4\r\n",
        "except Exception as e:\r\n",
        "  print(e)"
      ],
      "execution_count": 8,
      "outputs": [
        {
          "output_type": "stream",
          "text": [
            "must be str, not int\n"
          ],
          "name": "stdout"
        }
      ]
    },
    {
      "cell_type": "code",
      "metadata": {
        "colab": {
          "base_uri": "https://localhost:8080/"
        },
        "id": "qqcllIdNR5AJ",
        "outputId": "9327ff7c-85d8-4f10-92dd-41bb50272870"
      },
      "source": [
        "try:\r\n",
        "  4 / 0\r\n",
        "except Exception as jj:\r\n",
        "  print(jj)"
      ],
      "execution_count": 9,
      "outputs": [
        {
          "output_type": "stream",
          "text": [
            "division by zero\n"
          ],
          "name": "stdout"
        }
      ]
    },
    {
      "cell_type": "code",
      "metadata": {
        "id": "vds0_FC4SI3A"
      },
      "source": [
        "try:\r\n",
        "  a = 10\r\n",
        "  b = 2\r\n",
        "  print(\"The result: )"
      ],
      "execution_count": null,
      "outputs": []
    },
    {
      "cell_type": "code",
      "metadata": {
        "colab": {
          "base_uri": "https://localhost:8080/"
        },
        "id": "C9dZex61kUBR",
        "outputId": "7e101917-84bc-47a1-92ed-2d4b8cf3b1b1"
      },
      "source": [
        "fruit = [\"banana\", \"mango\", \"pear\", \"apple\", \"kiwi\", \"grape\"]\r\n",
        "\r\n",
        "while True:\r\n",
        "  try:\r\n",
        "      ind_num = int(input(\"Enter a index number: \"))\r\n",
        "      print(f\"My favorite fruit is {fruit[ind_num]}\")\r\n",
        "      break\r\n",
        "  except IndexError:\r\n",
        "    print(\"Please, enter a valid index number\")\r\n",
        "\r\n",
        "  except ValueError:\r\n",
        "    print(\"Please, use integer number\")\r\n",
        "    \r\n",
        "\r\n",
        "  "
      ],
      "execution_count": 35,
      "outputs": [
        {
          "output_type": "stream",
          "text": [
            "Enter a index number: 7\n",
            "Please, enter a valid index number\n",
            "Enter a index number: 7\n",
            "Please, enter a valid index number\n",
            "Enter a index number: 2\n",
            "My favorite fruit is pear\n"
          ],
          "name": "stdout"
        }
      ]
    },
    {
      "cell_type": "code",
      "metadata": {
        "colab": {
          "base_uri": "https://localhost:8080/"
        },
        "id": "1WI-v7kIm4t5",
        "outputId": "0e1fed69-464d-414e-b7eb-fabae1364f6b"
      },
      "source": [
        "fruit = [\"banana\", \"mango\", \"pear\", \"apple\", \"kiwi\", \"grape\"]\r\n",
        "counter = 0\r\n",
        "while counter < 3:\r\n",
        "  counter += 1\r\n",
        "  try:\r\n",
        "      ind_num = int(input(\"Enter a index number: \"))\r\n",
        "\r\n",
        "      print(f\"My favorite fruit is {fruit[ind_num]}\")\r\n",
        "      \r\n",
        "  except IndexError:\r\n",
        "    print(f\"Please, enter a valid index number.You have {3 - counter} right left\")\r\n",
        "  except ValueError:\r\n",
        "    print(f\"Please, use integer number.You have {3 - counter} right left\")\r\n",
        "  else:\r\n",
        "    print(\"Congrats! You've entered a valid input\")\r\n",
        "    break\r\n",
        "  finally:\r\n",
        "    print(\"Our fruits are always fresh\")\r\n",
        "    \r\n"
      ],
      "execution_count": 33,
      "outputs": [
        {
          "output_type": "stream",
          "text": [
            "Enter a index number: 6\n",
            "Please, enter a valid index number.You have 2 right left\n",
            "Our fruits are always fresh\n",
            "Enter a index number: h\n",
            "Please, use integer number.You have 1 right left\n",
            "Our fruits are always fresh\n",
            "Enter a index number: 9\n",
            "Please, enter a valid index number.You have 0 right left\n",
            "Our fruits are always fresh\n"
          ],
          "name": "stdout"
        }
      ]
    },
    {
      "cell_type": "code",
      "metadata": {
        "id": "kBqg1X-soYoC"
      },
      "source": [
        "# Recursive Function"
      ],
      "execution_count": null,
      "outputs": []
    },
    {
      "cell_type": "code",
      "metadata": {
        "id": "H3X9pgzZxLMI"
      },
      "source": [
        ""
      ],
      "execution_count": 41,
      "outputs": []
    },
    {
      "cell_type": "code",
      "metadata": {
        "id": "nOn2GATZxOri"
      },
      "source": [
        ""
      ],
      "execution_count": null,
      "outputs": []
    }
  ]
}