{
  "nbformat": 4,
  "nbformat_minor": 0,
  "metadata": {
    "colab": {
      "name": "Lesson_Exercise_3",
      "provenance": [],
      "collapsed_sections": [],
      "authorship_tag": "ABX9TyPvw89sp+sDtr2rZlyA+Zb5",
      "include_colab_link": true
    },
    "kernelspec": {
      "name": "python3",
      "display_name": "Python 3"
    }
  },
  "cells": [
    {
      "cell_type": "markdown",
      "metadata": {
        "id": "view-in-github",
        "colab_type": "text"
      },
      "source": [
        "<a href=\"https://colab.research.google.com/github/enes789/Python/blob/main/Lesson_Exercise_3.ipynb\" target=\"_parent\"><img src=\"https://colab.research.google.com/assets/colab-badge.svg\" alt=\"Open In Colab\"/></a>"
      ]
    },
    {
      "cell_type": "code",
      "metadata": {
        "colab": {
          "base_uri": "https://localhost:8080/"
        },
        "id": "C8snhtfJDeRw",
        "outputId": "32f44d39-fa9c-432c-edd0-5f9ec418b09c"
      },
      "source": [
        "def slicer(*nums):\r\n",
        "  even_list = []\r\n",
        "  odd_list = []\r\n",
        "  for i in nums:\r\n",
        "    if i % 2 == 0:\r\n",
        "      even_list.append(i)\r\n",
        "    else:\r\n",
        "      odd_list.append(i)\r\n",
        "\r\n",
        "  print(even_list)\r\n",
        "  print(odd_list)\r\n",
        "\r\n",
        "slicer(1, 2, 3, 4, 5, 6, 7, 8, 9)\r\n"
      ],
      "execution_count": null,
      "outputs": [
        {
          "output_type": "stream",
          "text": [
            "[2, 4, 6, 8]\n",
            "[1, 3, 5, 7, 9]\n"
          ],
          "name": "stdout"
        }
      ]
    },
    {
      "cell_type": "code",
      "metadata": {
        "colab": {
          "base_uri": "https://localhost:8080/"
        },
        "id": "YlJg27ITF2Zk",
        "outputId": "18d61e68-6ac0-4568-e444-507119c9a06f"
      },
      "source": [
        "def organizer(**persons):\r\n",
        "  name = []\r\n",
        "  age = []\r\n",
        "  for i, j in persons.items():\r\n",
        "    name.append(i)\r\n",
        "    age.append(j)\r\n",
        "  \r\n",
        "  print(name, \"\\n\", age)\r\n",
        "  \r\n",
        "organizer(Beth = 26, Oscar = 42, Justin = 18, Frank = 33)\r\n"
      ],
      "execution_count": null,
      "outputs": [
        {
          "output_type": "stream",
          "text": [
            "['Beth', 'Oscar', 'Justin', 'Frank'] \n",
            " [26, 42, 18, 33]\n"
          ],
          "name": "stdout"
        }
      ]
    },
    {
      "cell_type": "code",
      "metadata": {
        "colab": {
          "base_uri": "https://localhost:8080/"
        },
        "id": "DvZiepEuMY6w",
        "outputId": "0545e526-92c8-4d20-d165-87cb22234e13"
      },
      "source": [
        "def merger(a, b, c, d):\r\n",
        "  print(f\"For me {a} {d} and {c} {b} are geniuses.\")\r\n",
        "\r\n",
        "genius = (\"Bill\", \"Rossum\", \"Guido van\", \"Gates\")\r\n",
        "merger(*genius)"
      ],
      "execution_count": null,
      "outputs": [
        {
          "output_type": "stream",
          "text": [
            "For me Bill Gates and Guido van Rossum are geniuses.\n"
          ],
          "name": "stdout"
        }
      ]
    },
    {
      "cell_type": "code",
      "metadata": {
        "colab": {
          "base_uri": "https://localhost:8080/"
        },
        "id": "-tX5vwdgPu5a",
        "outputId": "08c00d60-0a6f-42fc-e03b-6acdc55bc654"
      },
      "source": [
        "friends = {\"Ali\" : 23, \"Mehmet\": 34, \"Ayşe\": 26}\r\n",
        "def meaner(Ali, Mehmet, Ayşe):\r\n",
        "  ave = (Ali + Mehmet + Ayşe) / 3\r\n",
        "  print(f\"Average of friends: {ave}\")\r\n",
        "    \r\n",
        "\r\n",
        "meaner(**friends)"
      ],
      "execution_count": null,
      "outputs": [
        {
          "output_type": "stream",
          "text": [
            "Average of friends: 27.666666666666668\n"
          ],
          "name": "stdout"
        }
      ]
    },
    {
      "cell_type": "code",
      "metadata": {
        "colab": {
          "base_uri": "https://localhost:8080/"
        },
        "id": "KXXnaehsXQMC",
        "outputId": "2dd643b6-3f6b-4be5-ffaf-543359abe9a7"
      },
      "source": [
        "#execute_body1 if condition else execute_body2\r\n",
        "\r\n",
        "condition = True\r\n",
        "a = 1 if condition else 0\r\n",
        "print(a)"
      ],
      "execution_count": null,
      "outputs": [
        {
          "output_type": "stream",
          "text": [
            "1\n"
          ],
          "name": "stdout"
        }
      ]
    },
    {
      "cell_type": "code",
      "metadata": {
        "colab": {
          "base_uri": "https://localhost:8080/"
        },
        "id": "k5kCZ5MzXdE0",
        "outputId": "a9d41592-11d9-4f95-d707-229bcf4ec1bb"
      },
      "source": [
        "my_list = [1, 2, 3, 4 ,5 ,6, 7]\r\n",
        "result = [i ** 2 for i in my_list if i % 2 != 0]\r\n",
        "print(result)"
      ],
      "execution_count": null,
      "outputs": [
        {
          "output_type": "stream",
          "text": [
            "[1, 9, 25, 49]\n"
          ],
          "name": "stdout"
        }
      ]
    },
    {
      "cell_type": "code",
      "metadata": {
        "colab": {
          "base_uri": "https://localhost:8080/"
        },
        "id": "E535zPOyopF6",
        "outputId": "17396fff-db10-4b6a-b3e4-de7173c3512a"
      },
      "source": [
        "[x **2 for x in range(5)]"
      ],
      "execution_count": null,
      "outputs": [
        {
          "output_type": "execute_result",
          "data": {
            "text/plain": [
              "[0, 1, 4, 9, 16]"
            ]
          },
          "metadata": {
            "tags": []
          },
          "execution_count": 36
        }
      ]
    },
    {
      "cell_type": "code",
      "metadata": {
        "colab": {
          "base_uri": "https://localhost:8080/"
        },
        "id": "LdOplf1XozF0",
        "outputId": "17e16647-5519-4c98-ef59-c5ca4727402e"
      },
      "source": [
        "word = lambda x : x[::-1]\r\n",
        "print(word(\"Clarusway\"))"
      ],
      "execution_count": null,
      "outputs": [
        {
          "output_type": "stream",
          "text": [
            "yawsuralC\n"
          ],
          "name": "stdout"
        }
      ]
    },
    {
      "cell_type": "code",
      "metadata": {
        "colab": {
          "base_uri": "https://localhost:8080/"
        },
        "id": "onbTxzBqxQIy",
        "outputId": "65ce3cf3-9580-4955-9428-84a04136cb90"
      },
      "source": [
        "print(*reversed(\"clarusway\"))"
      ],
      "execution_count": null,
      "outputs": [
        {
          "output_type": "stream",
          "text": [
            "y a w s u r a l c\n"
          ],
          "name": "stdout"
        }
      ]
    },
    {
      "cell_type": "code",
      "metadata": {
        "colab": {
          "base_uri": "https://localhost:8080/"
        },
        "id": "sd8rZD0lyccC",
        "outputId": "06c17775-4a6d-46e4-9d7f-b9950ed563dc"
      },
      "source": [
        "for x in range(1, 5):\r\n",
        "  if x % 2 == 0:\r\n",
        "    print(x, \":\", \"even\")\r\n",
        "  else:\r\n",
        "    print(x, \":\", \"odd\")"
      ],
      "execution_count": null,
      "outputs": [
        {
          "output_type": "stream",
          "text": [
            "1 : odd\n",
            "2 : even\n",
            "3 : odd\n",
            "4 : even\n"
          ],
          "name": "stdout"
        }
      ]
    },
    {
      "cell_type": "code",
      "metadata": {
        "id": "0Er_8Ec_c9ol",
        "colab": {
          "base_uri": "https://localhost:8080/"
        },
        "outputId": "d376d951-ad90-4017-e5ce-08ae951a9753"
      },
      "source": [
        "for x in range(1, 5):\r\n",
        "  print(x, \":\", (lambda x: \"even\" if x % 2 == 0 else \"odd\")(x))\r\n",
        "    \r\n"
      ],
      "execution_count": null,
      "outputs": [
        {
          "output_type": "stream",
          "text": [
            "1 : odd\n",
            "2 : even\n",
            "3 : odd\n",
            "4 : even\n"
          ],
          "name": "stdout"
        }
      ]
    },
    {
      "cell_type": "code",
      "metadata": {
        "colab": {
          "base_uri": "https://localhost:8080/"
        },
        "id": "vLDQpW4Gmu4M",
        "outputId": "91706dd0-8c8b-4185-99fe-9d2a1ff6e30b"
      },
      "source": [
        "def square(x):\r\n",
        "  return x ** 2\r\n",
        "\r\n",
        "iterable = [1, 2, 3, 4, 5]   \r\n",
        "res = list(map(square, iterable))\r\n",
        "print(res)"
      ],
      "execution_count": null,
      "outputs": [
        {
          "output_type": "stream",
          "text": [
            "[1, 4, 9, 16, 25]\n"
          ],
          "name": "stdout"
        }
      ]
    },
    {
      "cell_type": "code",
      "metadata": {
        "id": "fy7NVCksr4Rq",
        "colab": {
          "base_uri": "https://localhost:8080/"
        },
        "outputId": "08a20a76-ad71-4cc8-d359-b076fd8352ad"
      },
      "source": [
        "nums1 = [9, 6, 7, 4]\r\n",
        "nums2 = [3, 6, 5, 8]\r\n",
        "res = list(map(lambda x, y: (x + y) / 2, nums1, nums2))\r\n",
        "print(res)"
      ],
      "execution_count": null,
      "outputs": [
        {
          "output_type": "stream",
          "text": [
            "[6.0, 6.0, 6.0, 6.0]\n"
          ],
          "name": "stdout"
        }
      ]
    },
    {
      "cell_type": "code",
      "metadata": {
        "colab": {
          "base_uri": "https://localhost:8080/"
        },
        "id": "BTujOoy69Xz1",
        "outputId": "46580d39-8f61-44e7-e853-f97c2a5a4e6e"
      },
      "source": [
        "words1 = [\"you\", \"much\", \"hard\"]\r\n",
        "words2 = [\"i\", \"you\", \"he\"]\r\n",
        "words3 = [\"love\", \"ate\", \"works\"]\r\n",
        "res = map(lambda x, y, z : y + \" \" + z +\" \" + x, words1, words2, words3)\r\n",
        "for i in res:\r\n",
        "  print(i)"
      ],
      "execution_count": null,
      "outputs": [
        {
          "output_type": "stream",
          "text": [
            "i love you\n",
            "you ate much\n",
            "he works hard\n"
          ],
          "name": "stdout"
        }
      ]
    },
    {
      "cell_type": "code",
      "metadata": {
        "colab": {
          "base_uri": "https://localhost:8080/"
        },
        "id": "XV3bt7Wx_vkv",
        "outputId": "71e5276a-16ff-406f-88ed-db29e3060ac8"
      },
      "source": [
        "words = [\"apple\", \"swim\", \"clock\", \"me\", \"kiwi\", \"banana\"]\r\n",
        "res = filter(lambda x : len(x) < 5, words)\r\n",
        "for i in res:\r\n",
        "  print(i)\r\n"
      ],
      "execution_count": null,
      "outputs": [
        {
          "output_type": "stream",
          "text": [
            "swim\n",
            "me\n",
            "kiwi\n"
          ],
          "name": "stdout"
        }
      ]
    },
    {
      "cell_type": "code",
      "metadata": {
        "colab": {
          "base_uri": "https://localhost:8080/"
        },
        "id": "ZrlNzgJZE8Oy",
        "outputId": "cc000a8c-b6ad-4fbf-d8e1-4b9aa56a1943"
      },
      "source": [
        "def repeater(n):\r\n",
        "  return lambda x: x * n\r\n",
        "\r\n",
        "res = repeater(3)\r\n",
        "print(res(\"enes \"))"
      ],
      "execution_count": null,
      "outputs": [
        {
          "output_type": "stream",
          "text": [
            "enes enes enes \n"
          ],
          "name": "stdout"
        }
      ]
    },
    {
      "cell_type": "code",
      "metadata": {
        "colab": {
          "base_uri": "https://localhost:8080/"
        },
        "id": "1afFhKXrNmR9",
        "outputId": "516173a0-e542-49f2-fcbf-c3c9133699fc"
      },
      "source": [
        "def functioner(emoji):\r\n",
        "  return lambda x: print(x, emoji)\r\n",
        "\r\n",
        "smile = functioner(\":)\")\r\n",
        "sad = functioner(\":(\")\r\n",
        "neutral = functioner(\":|\")\r\n",
        "\r\n",
        "smile(\"hello \")\r\n",
        "sad(\"hello \")\r\n",
        "neutral(\"hello \")\r\n"
      ],
      "execution_count": null,
      "outputs": [
        {
          "output_type": "stream",
          "text": [
            "hello  :)\n",
            "hello  :(\n",
            "hello  :|\n"
          ],
          "name": "stdout"
        }
      ]
    },
    {
      "cell_type": "code",
      "metadata": {
        "id": "IgCSa9ayPXbV"
      },
      "source": [
        ""
      ],
      "execution_count": null,
      "outputs": []
    }
  ]
}