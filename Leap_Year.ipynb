{
  "nbformat": 4,
  "nbformat_minor": 0,
  "metadata": {
    "colab": {
      "name": "Leap Year",
      "provenance": [],
      "authorship_tag": "ABX9TyNEWTbIzjV4ANHiLHpy6R0Q",
      "include_colab_link": true
    },
    "kernelspec": {
      "name": "python3",
      "display_name": "Python 3"
    }
  },
  "cells": [
    {
      "cell_type": "markdown",
      "metadata": {
        "id": "view-in-github",
        "colab_type": "text"
      },
      "source": [
        "<a href=\"https://colab.research.google.com/github/enes789/Python/blob/main/Leap_Year.ipynb\" target=\"_parent\"><img src=\"https://colab.research.google.com/assets/colab-badge.svg\" alt=\"Open In Colab\"/></a>"
      ]
    },
    {
      "cell_type": "code",
      "metadata": {
        "colab": {
          "base_uri": "https://localhost:8080/"
        },
        "id": "Vqy34IWBaQYe",
        "outputId": "a04b1a13-7c13-493d-a26d-adfa405f0999"
      },
      "source": [
        "year = int(input(\"Enter 4 digit value and find out if it is leap year or not : \"))\r\n",
        "a = year % 4 == 0\r\n",
        "b = year % 100 != 0\r\n",
        "c = year % 400 == 0\r\n",
        "print(a and (b or c))"
      ],
      "execution_count": 3,
      "outputs": [
        {
          "output_type": "stream",
          "text": [
            "Enter 4 digit value and find out if it is leap year or not : 80\n",
            "True\n"
          ],
          "name": "stdout"
        }
      ]
    }
  ]
}