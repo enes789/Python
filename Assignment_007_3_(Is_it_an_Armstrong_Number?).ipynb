{
  "nbformat": 4,
  "nbformat_minor": 0,
  "metadata": {
    "colab": {
      "name": "Assignment - 007/3 (Is it an Armstrong Number?)",
      "provenance": [],
      "collapsed_sections": [],
      "authorship_tag": "ABX9TyNCssa7uUBTNRzF7kRKFDkY",
      "include_colab_link": true
    },
    "kernelspec": {
      "name": "python3",
      "display_name": "Python 3"
    }
  },
  "cells": [
    {
      "cell_type": "markdown",
      "metadata": {
        "id": "view-in-github",
        "colab_type": "text"
      },
      "source": [
        "<a href=\"https://colab.research.google.com/github/enes789/Python/blob/main/Assignment_007_3_(Is_it_an_Armstrong_Number%3F).ipynb\" target=\"_parent\"><img src=\"https://colab.research.google.com/assets/colab-badge.svg\" alt=\"Open In Colab\"/></a>"
      ]
    },
    {
      "cell_type": "code",
      "metadata": {
        "colab": {
          "base_uri": "https://localhost:8080/"
        },
        "id": "RMkedjQzpNM4",
        "outputId": "75ff23b0-a341-4572-a2f6-165471f443d0"
      },
      "source": [
        "\"\"\"ARMSTRONG NUMBERS\"\"\"\r\n",
        "\r\n",
        "num = input(\"Enter a number to learn whether it is armstrong number or not: \")\r\n",
        "a = list(num)\r\n",
        "total = 0\r\n",
        "x = 0\r\n",
        "\r\n",
        "if not num.isdigit():\r\n",
        "  print(\"It is an invalid entry. Don't use non-numeric, float, or negative values!\")\r\n",
        "else:\r\n",
        "  for i in a:\r\n",
        "    total += int(i) ** len(a)\r\n",
        "  if total == int(num):\r\n",
        "    print(f\"{num} is an Armstrong number.\")\r\n",
        "  else:\r\n",
        "    print(f\"{num} is not an Armstrong number.\")"
      ],
      "execution_count": 16,
      "outputs": [
        {
          "output_type": "stream",
          "text": [
            "Enter a number to learn whether it is armstrong number or not: 407\n",
            "407 is an Armstrong number.\n"
          ],
          "name": "stdout"
        }
      ]
    },
    {
      "cell_type": "code",
      "metadata": {
        "id": "FxYrZdHKLB4G"
      },
      "source": [
        ""
      ],
      "execution_count": null,
      "outputs": []
    }
  ]
}