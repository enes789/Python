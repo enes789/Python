{
  "nbformat": 4,
  "nbformat_minor": 0,
  "metadata": {
    "colab": {
      "name": "W3Resources_Lambda",
      "provenance": [],
      "collapsed_sections": [],
      "authorship_tag": "ABX9TyMDyEEBnGOwQJ4qFtxhAcW3",
      "include_colab_link": true
    },
    "kernelspec": {
      "name": "python3",
      "display_name": "Python 3"
    }
  },
  "cells": [
    {
      "cell_type": "markdown",
      "metadata": {
        "id": "view-in-github",
        "colab_type": "text"
      },
      "source": [
        "<a href=\"https://colab.research.google.com/github/enes789/Python/blob/main/W3Resources_Lambda.ipynb\" target=\"_parent\"><img src=\"https://colab.research.google.com/assets/colab-badge.svg\" alt=\"Open In Colab\"/></a>"
      ]
    },
    {
      "cell_type": "code",
      "metadata": {
        "colab": {
          "base_uri": "https://localhost:8080/"
        },
        "id": "HRiXLOjNNPdS",
        "outputId": "2ca049c2-174c-47ab-bc7e-e43799625167"
      },
      "source": [
        "result = lambda x : x + 15\r\n",
        "print(result(5))"
      ],
      "execution_count": null,
      "outputs": [
        {
          "output_type": "stream",
          "text": [
            "20\n"
          ],
          "name": "stdout"
        }
      ]
    },
    {
      "cell_type": "code",
      "metadata": {
        "colab": {
          "base_uri": "https://localhost:8080/"
        },
        "id": "gjdXSpf8Nogh",
        "outputId": "fcffe058-84a3-43fb-e139-249462b84817"
      },
      "source": [
        "def multiply(n):\r\n",
        "  return lambda x : x * n\r\n",
        "\r\n",
        "result = multiply(5)\r\n",
        "print(result(15))"
      ],
      "execution_count": null,
      "outputs": [
        {
          "output_type": "stream",
          "text": [
            "75\n"
          ],
          "name": "stdout"
        }
      ]
    },
    {
      "cell_type": "code",
      "metadata": {
        "colab": {
          "base_uri": "https://localhost:8080/"
        },
        "id": "pJ_FgFZDOim7",
        "outputId": "d645bb3a-75f7-438b-d432-9293d2da01d6"
      },
      "source": [
        "\"\"\"Write a Python program to sort a list of tuples using Lambda.\"\"\"\r\n",
        "\r\n",
        "a = [('English', 88), ('Science', 90), ('Maths', 97), ('Social sciences', 82)]\r\n",
        "a.sort(key = lambda x : x[1])\r\n",
        "print(a)"
      ],
      "execution_count": null,
      "outputs": [
        {
          "output_type": "stream",
          "text": [
            "[('English', 88), ('Maths', 97), ('Science', 90), ('Social sciences', 82)]\n"
          ],
          "name": "stdout"
        }
      ]
    },
    {
      "cell_type": "code",
      "metadata": {
        "colab": {
          "base_uri": "https://localhost:8080/"
        },
        "id": "o07eEtV4PH-1",
        "outputId": "7b04026d-e48a-4b7a-aef2-7fe0834f17a7"
      },
      "source": [
        "\"\"\"Write a Python program to sort a list of dictionaries using Lambda\"\"\"\r\n",
        "\r\n",
        "a = [{'make': 'Nokia', 'model': 216, 'color': 'Black'}, {'make': 'Mi Max', 'model': '2', 'color': 'Gold'}, {'make': 'Samsung', 'model': 7, 'color': 'Blue'}]\r\n",
        "a.sort(key = lambda x : x[\"color\"])\r\n",
        "print(a)"
      ],
      "execution_count": null,
      "outputs": [
        {
          "output_type": "stream",
          "text": [
            "[{'make': 'Nokia', 'model': 216, 'color': 'Black'}, {'make': 'Samsung', 'model': 7, 'color': 'Blue'}, {'make': 'Mi Max', 'model': '2', 'color': 'Gold'}]\n"
          ],
          "name": "stdout"
        }
      ]
    },
    {
      "cell_type": "code",
      "metadata": {
        "colab": {
          "base_uri": "https://localhost:8080/"
        },
        "id": "bUsKHB91QuKO",
        "outputId": "9f2dbd2b-c462-4449-d002-f7010980648c"
      },
      "source": [
        "\"\"\"Write a Python program to filter a list of integers using Lambda.\"\"\"\r\n",
        "\r\n",
        "nums = [1, 2, 3, 4, 5, 6, 7, 8, 9, 10]\r\n",
        "res1 = list(filter(lambda x : x % 2 == 0, nums))\r\n",
        "print(f\"Even numbers : {res1}\")\r\n",
        "res2 = list(filter(lambda x : x % 2 != 0, nums))\r\n",
        "print(f\"Odd numbers : {res2}\")"
      ],
      "execution_count": null,
      "outputs": [
        {
          "output_type": "stream",
          "text": [
            "Even numbers : [2, 4, 6, 8, 10]\n",
            "Odd numbers : [1, 3, 5, 7, 9]\n"
          ],
          "name": "stdout"
        }
      ]
    },
    {
      "cell_type": "code",
      "metadata": {
        "colab": {
          "base_uri": "https://localhost:8080/"
        },
        "id": "T78HDoNdR3Qm",
        "outputId": "feb52195-1589-427b-973c-02e6aedf16b6"
      },
      "source": [
        "\"\"\"Write a Python program to square and cube every number in a given list of integers using Lambda.\"\"\"\r\n",
        "\r\n",
        "nums = [1, 2, 3, 4, 5, 6, 7, 8, 9, 10]\r\n",
        "res1 = list(map(lambda x : x ** 2, nums))\r\n",
        "print(f\"Square of list items : {res1}\")"
      ],
      "execution_count": null,
      "outputs": [
        {
          "output_type": "stream",
          "text": [
            "Square of list items : [1, 4, 9, 16, 25, 36, 49, 64, 81, 100]\n"
          ],
          "name": "stdout"
        }
      ]
    },
    {
      "cell_type": "code",
      "metadata": {
        "colab": {
          "base_uri": "https://localhost:8080/"
        },
        "id": "JLu3kq54S1ph",
        "outputId": "4ace548b-838b-46a4-b4fc-f2953324d685"
      },
      "source": [
        "\"\"\"Write a Python program to find if a given string starts with a given character using Lambda\"\"\"\r\n",
        "\r\n",
        "res = lambda x: True if x.startswith(\"C\") else False\r\n",
        "print(res(\"Clarusway\"))"
      ],
      "execution_count": null,
      "outputs": [
        {
          "output_type": "stream",
          "text": [
            "True\n"
          ],
          "name": "stdout"
        }
      ]
    },
    {
      "cell_type": "code",
      "metadata": {
        "colab": {
          "base_uri": "https://localhost:8080/"
        },
        "id": "aBGZhvJlTqMf",
        "outputId": "2ddf2a81-5e7f-4c66-ae25-d8835efbeb8f"
      },
      "source": [
        "\"\"\"Write a Python program to extract year, month, date and time using Lambda.\"\"\"\r\n",
        "\r\n",
        "import datetime\r\n",
        "now = datetime.datetime.now()\r\n",
        "print(now)\r\n",
        "year = now.year\r\n",
        "month = now.month\r\n",
        "day = lambda x : x.day\r\n",
        "time = lambda x : x.time()\r\n",
        "print(year)\r\n",
        "print(month)\r\n",
        "print(day(now))\r\n",
        "print(time(now))"
      ],
      "execution_count": null,
      "outputs": [
        {
          "output_type": "stream",
          "text": [
            "2021-01-23 08:27:38.219375\n",
            "2021\n",
            "1\n",
            "23\n",
            "08:27:38.219375\n"
          ],
          "name": "stdout"
        }
      ]
    },
    {
      "cell_type": "code",
      "metadata": {
        "colab": {
          "base_uri": "https://localhost:8080/"
        },
        "id": "ctCNHE96V0bV",
        "outputId": "aad2b901-55d2-4ccc-fe82-f6d421ba0e03"
      },
      "source": [
        "\"\"\"Write a Python program to check whether a given string is number or not using Lambda.\"\"\"\r\n",
        "\r\n",
        "res = lambda x: True if x.isdigit() else False\r\n",
        "print(res(\"123\"))"
      ],
      "execution_count": null,
      "outputs": [
        {
          "output_type": "stream",
          "text": [
            "True\n"
          ],
          "name": "stdout"
        }
      ]
    },
    {
      "cell_type": "code",
      "metadata": {
        "id": "q4a-yHfeY_HG",
        "colab": {
          "base_uri": "https://localhost:8080/"
        },
        "outputId": "fee123f0-3696-413a-8287-e9c14578c3ce"
      },
      "source": [
        "\"\"\"Write a Python program to find intersection of two given arrays using Lambda.\"\"\"\r\n",
        "\r\n",
        "x = set([1, 2, 3, 5, 7, 8, 9, 10])\r\n",
        "y = set([1, 2, 4, 8, 9])\r\n",
        "res = lambda x, y: x.intersection(y)\r\n",
        "print(res(x, y))"
      ],
      "execution_count": 5,
      "outputs": [
        {
          "output_type": "stream",
          "text": [
            "[{8, 1, 2, 9}]\n"
          ],
          "name": "stdout"
        }
      ]
    },
    {
      "cell_type": "code",
      "metadata": {
        "colab": {
          "base_uri": "https://localhost:8080/"
        },
        "id": "YPwMYPXc-eQu",
        "outputId": "5753c247-863b-4b53-9b99-b28fcfa272e6"
      },
      "source": [
        "x1 = [1, 2, 3, 5, 7, 8, 9, 10]\r\n",
        "y1 = [1, 2, 4, 8, 9]\r\n",
        "res = list(filter(lambda x: x in x1, y1))\r\n",
        "print(res)"
      ],
      "execution_count": 8,
      "outputs": [
        {
          "output_type": "stream",
          "text": [
            "[1, 2, 8, 9]\n"
          ],
          "name": "stdout"
        }
      ]
    },
    {
      "cell_type": "code",
      "metadata": {
        "colab": {
          "base_uri": "https://localhost:8080/"
        },
        "id": "0d_iN7OO_3mw",
        "outputId": "1ab62dfa-69b7-496a-9c58-dd964122ca15"
      },
      "source": [
        "\"\"\"Write a Python program to rearrange positive and negative numbers in a given array using Lambda.\"\"\" \r\n",
        "\r\n",
        "my_list = [-1, 2, -3, 5, 7, 8, 9, -10]\r\n",
        "res = sorted(my_list, key = lambda x: 0 if x == 0 else -1 / x)\r\n",
        "print(res)"
      ],
      "execution_count": 13,
      "outputs": [
        {
          "output_type": "stream",
          "text": [
            "[2, 5, 7, 8, 9, -10, -3, -1]\n"
          ],
          "name": "stdout"
        }
      ]
    },
    {
      "cell_type": "code",
      "metadata": {
        "colab": {
          "base_uri": "https://localhost:8080/"
        },
        "id": "N2h37vheAJna",
        "outputId": "fd7c291d-b6e3-49c7-938e-3a6d9e453019"
      },
      "source": [
        "\"\"\" Write a Python program to find the values of length six in a given list using Lambda.\"\"\"\r\n",
        "\r\n",
        "weekdays = ['Monday', 'Tuesday', 'Wednesday', 'Thursday', 'Friday', 'Saturday', 'Sunday']\r\n",
        "res = list(filter(lambda x: len(x) == 6, weekdays))\r\n",
        "print(res)\r\n"
      ],
      "execution_count": 15,
      "outputs": [
        {
          "output_type": "stream",
          "text": [
            "['Monday', 'Friday', 'Sunday']\n"
          ],
          "name": "stdout"
        }
      ]
    },
    {
      "cell_type": "code",
      "metadata": {
        "colab": {
          "base_uri": "https://localhost:8080/"
        },
        "id": "IZYNVCTzDygv",
        "outputId": "0a01526f-4a50-42fc-dc3d-769fd55316b2"
      },
      "source": [
        " \"\"\"Write a Python program to add two given lists using map and lambda.\"\"\" \r\n",
        "\r\n",
        "list1 = [1, 2, 3]\r\n",
        "list2 = [4, 5, 6]\r\n",
        "print(list(map(lambda x, y: x + y, list1, list2)))"
      ],
      "execution_count": 16,
      "outputs": [
        {
          "output_type": "stream",
          "text": [
            "[5, 7, 9]\n"
          ],
          "name": "stdout"
        }
      ]
    },
    {
      "cell_type": "code",
      "metadata": {
        "colab": {
          "base_uri": "https://localhost:8080/"
        },
        "id": "wjrf-mFlEHL1",
        "outputId": "5f6d5f1e-3609-4097-84f6-b264a88e0851"
      },
      "source": [
        "\"\"\"Write a Python program to find the second lowest grade of any student(s) from the given names and grades of each student using lists and lambda.\"\"\"\r\n",
        "\r\n",
        "my_list = [['S ROY', 1.0], ['B BOSE', 3.0], ['N KAR', 2.0], ['C DUTTA', 2.0], ['G GHOSH', 1.0]]\r\n",
        "order = sorted(my_list, key= lambda x: int(x[1]))\r\n",
        "\r\n",
        "for i in range(len(my_list)):\r\n",
        "  if order[i][1] != order[0][1]:\r\n",
        "    sec_grade = order[i][1]\r\n",
        "    break\r\n",
        "sec_name = [order[i][0] for i in range(len(my_list)) if order[i][1] == sec_grade]\r\n",
        "  \r\n",
        "    \r\n",
        "print(order)\r\n",
        "print(sec_grade)\r\n",
        "print(sec_name)"
      ],
      "execution_count": 27,
      "outputs": [
        {
          "output_type": "stream",
          "text": [
            "[['S ROY', 1.0], ['G GHOSH', 1.0], ['N KAR', 2.0], ['C DUTTA', 2.0], ['B BOSE', 3.0]]\n",
            "2.0\n",
            "['N KAR', 'C DUTTA']\n"
          ],
          "name": "stdout"
        }
      ]
    }
  ]
}