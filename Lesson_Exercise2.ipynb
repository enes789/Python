{
  "nbformat": 4,
  "nbformat_minor": 0,
  "metadata": {
    "colab": {
      "name": "Lesson_Exercise2",
      "provenance": [],
      "collapsed_sections": [],
      "authorship_tag": "ABX9TyOxV9z6H3fSuKSXJAStjxfI",
      "include_colab_link": true
    },
    "kernelspec": {
      "name": "python3",
      "display_name": "Python 3"
    }
  },
  "cells": [
    {
      "cell_type": "markdown",
      "metadata": {
        "id": "view-in-github",
        "colab_type": "text"
      },
      "source": [
        "<a href=\"https://colab.research.google.com/github/enes789/Python/blob/main/Lesson_Exercise2.ipynb\" target=\"_parent\"><img src=\"https://colab.research.google.com/assets/colab-badge.svg\" alt=\"Open In Colab\"/></a>"
      ]
    },
    {
      "cell_type": "code",
      "metadata": {
        "colab": {
          "base_uri": "https://localhost:8080/"
        },
        "id": "d3XUGtmb-OEg",
        "outputId": "ef5c3d7b-0a94-44ef-a4ef-1b9220f9a34e"
      },
      "source": [
        "hayloft = [\"eggs\", \"cow\", \"hay\", \"chicken\", \"needle\", \"water\"]\r\n",
        "print(f\" needle is at location of {hayloft.index('needle')} index number\")"
      ],
      "execution_count": null,
      "outputs": [
        {
          "output_type": "stream",
          "text": [
            " needle is at location of 4 index number\n"
          ],
          "name": "stdout"
        }
      ]
    },
    {
      "cell_type": "code",
      "metadata": {
        "colab": {
          "base_uri": "https://localhost:8080/"
        },
        "id": "xHClAMBR_3an",
        "outputId": "3b95b2d6-67dc-46ca-8f45-cc0551f2ecc1"
      },
      "source": [
        "(monday, tuesday, wednesday, thusrday, friday, saturday, sunday) = tuple(range(1, 8))\r\n",
        "friday"
      ],
      "execution_count": null,
      "outputs": [
        {
          "output_type": "execute_result",
          "data": {
            "text/plain": [
              "5"
            ]
          },
          "metadata": {
            "tags": []
          },
          "execution_count": 2
        }
      ]
    },
    {
      "cell_type": "code",
      "metadata": {
        "colab": {
          "base_uri": "https://localhost:8080/"
        },
        "id": "QjeEb2_fDZNz",
        "outputId": "3d0ad11f-2904-4f1f-f78e-56ba54a2f9a6"
      },
      "source": [
        "if set(\"twelve plus one\") == set(\"eleven plus two\"):\r\n",
        "  print(\"We are the same\")"
      ],
      "execution_count": null,
      "outputs": [
        {
          "output_type": "stream",
          "text": [
            "We are the same\n"
          ],
          "name": "stdout"
        }
      ]
    },
    {
      "cell_type": "code",
      "metadata": {
        "colab": {
          "base_uri": "https://localhost:8080/"
        },
        "id": "661dNP85EgJ-",
        "outputId": "35eee972-9b02-403a-ca42-0ed320979186"
      },
      "source": [
        "answer = input(\"Enter Yes or No : \").title().strip() == \"Yes\"\r\n",
        "print(f\"You entered {answer}\")"
      ],
      "execution_count": null,
      "outputs": [
        {
          "output_type": "stream",
          "text": [
            "Enter Yes oe No : yes\n",
            "You entered True \n"
          ],
          "name": "stdout"
        }
      ]
    },
    {
      "cell_type": "code",
      "metadata": {
        "colab": {
          "base_uri": "https://localhost:8080/"
        },
        "id": "NA9m5Ye2J0PC",
        "outputId": "030ba477-3c36-4187-e5ca-12045294b706"
      },
      "source": [
        "num = int(input(\"Enter a number: \"))\r\n",
        "if num % 2 == 0:\r\n",
        "  print(f\"{num} is even\")\r\n",
        "else:\r\n",
        "  print(f\"{num} is odd\")"
      ],
      "execution_count": null,
      "outputs": [
        {
          "output_type": "stream",
          "text": [
            "Enter a number: 7\n",
            "7 is odd\n"
          ],
          "name": "stdout"
        }
      ]
    },
    {
      "cell_type": "code",
      "metadata": {
        "colab": {
          "base_uri": "https://localhost:8080/"
        },
        "id": "xSrVfqV4LMdg",
        "outputId": "4186f68f-6bdb-4c38-8251-6704b85f734e"
      },
      "source": [
        "num = int(input(\"Enter a number: \"))\r\n",
        "[i for i in range(num) if i % 2 == 0]"
      ],
      "execution_count": null,
      "outputs": [
        {
          "output_type": "stream",
          "text": [
            "Enter a number: 10\n"
          ],
          "name": "stdout"
        },
        {
          "output_type": "execute_result",
          "data": {
            "text/plain": [
              "[0, 2, 4, 6, 8]"
            ]
          },
          "metadata": {
            "tags": []
          },
          "execution_count": 18
        }
      ]
    },
    {
      "cell_type": "code",
      "metadata": {
        "colab": {
          "base_uri": "https://localhost:8080/"
        },
        "id": "CPTlXMh6M4h_",
        "outputId": "067ada08-1c55-4038-c113-6ce98552d949"
      },
      "source": [
        "num1 = int(input(\"Enter a number: \"))\r\n",
        "num2 = int(input(\"Enter a number: \"))\r\n",
        "\r\n",
        "if num1 > num2:\r\n",
        "  print(f\"The large number is {num1}\")\r\n",
        "else:\r\n",
        "  print(f\"The large number is {num2}\")"
      ],
      "execution_count": null,
      "outputs": [
        {
          "output_type": "stream",
          "text": [
            "Enter a number: 3\n",
            "Enter a number: 5\n",
            "The large number is 5\n"
          ],
          "name": "stdout"
        }
      ]
    },
    {
      "cell_type": "code",
      "metadata": {
        "colab": {
          "base_uri": "https://localhost:8080/"
        },
        "id": "S3kwv5icLlIv",
        "outputId": "706c6c80-e9ee-47d3-a482-3d773069b8c5"
      },
      "source": [
        "num = int(input(\"Enter a number: \"))\r\n",
        "if num < 0:\r\n",
        "  print(f\"{num} is negative number\")\r\n",
        "else:\r\n",
        "  print(f\"{num} is positive number\")"
      ],
      "execution_count": null,
      "outputs": [
        {
          "output_type": "stream",
          "text": [
            "Enter a number: 23\n",
            "23 is positive number\n"
          ],
          "name": "stdout"
        }
      ]
    },
    {
      "cell_type": "code",
      "metadata": {
        "id": "PCRnpkMAGuJM"
      },
      "source": [
        "favorite = {\r\n",
        "     friends : {\r\n",
        "        friend1 : {\"first\" : \"Sue\", \"last\" : \"Bold\"}\r\n",
        "        friend2 : {\"first\" : \"Steve\", \"last\" : \"Smith\"}\r\n",
        "    }\r\n",
        "        \r\n",
        "              \r\n",
        "    family : {\r\n",
        "        family1 : {\"first\" : \"Enes\", \"last\" : \"Deniz\"}\r\n",
        "        family2 : {\"first\" : \"Mehmet\", \"last\" : \"Bold\"}\r\n",
        "    }\r\n",
        "}\r\n",
        "   "
      ],
      "execution_count": null,
      "outputs": []
    },
    {
      "cell_type": "code",
      "metadata": {
        "colab": {
          "base_uri": "https://localhost:8080/"
        },
        "id": "QyVja6gHKlFK",
        "outputId": "ddc8c8d7-8e60-4dce-b291-16d97acc3f9e"
      },
      "source": [
        "city = [\"addis abba\", \"tokyo\", \"rome\", \"istanbul\"]\r\n",
        "city.sort()\r\n",
        "city\r\n"
      ],
      "execution_count": null,
      "outputs": [
        {
          "output_type": "execute_result",
          "data": {
            "text/plain": [
              "['addis abba', 'istanbul', 'rome', 'tokyo']"
            ]
          },
          "metadata": {
            "tags": []
          },
          "execution_count": 1
        }
      ]
    },
    {
      "cell_type": "code",
      "metadata": {
        "colab": {
          "base_uri": "https://localhost:8080/"
        },
        "id": "kaRb-rrXLfzO",
        "outputId": "987a7d11-a41a-4290-8e9a-bb8751dbd4e6"
      },
      "source": [
        "city = [\"addis abba\", \"tokyo\", \"rome\", \"istanbul\"]\r\n",
        "print(sorted(city, key = len, reverse = True))\r\n",
        "\r\n"
      ],
      "execution_count": null,
      "outputs": [
        {
          "output_type": "stream",
          "text": [
            "['addis abba', 'istanbul', 'tokyo', 'rome']\n"
          ],
          "name": "stdout"
        }
      ]
    },
    {
      "cell_type": "code",
      "metadata": {
        "colab": {
          "base_uri": "https://localhost:8080/"
        },
        "id": "bbpng2MkN28x",
        "outputId": "83c42d97-6823-49b3-e8fd-c54b5d580214"
      },
      "source": [
        "city = [\"addis abba\", \"tokyo\", \"rome\", \"istanbul\"]\r\n",
        "city.sort(key = len, reverse = False)\r\n",
        "city"
      ],
      "execution_count": null,
      "outputs": [
        {
          "output_type": "execute_result",
          "data": {
            "text/plain": [
              "['rome', 'tokyo', 'istanbul', 'addis abba']"
            ]
          },
          "metadata": {
            "tags": []
          },
          "execution_count": 8
        }
      ]
    },
    {
      "cell_type": "code",
      "metadata": {
        "colab": {
          "base_uri": "https://localhost:8080/"
        },
        "id": "alaWfmfBmuwO",
        "outputId": "b8cba822-3f3d-4966-f63b-6aa65b53374d"
      },
      "source": [
        "set_1 = {'red', 'blue', 'pink', 'red'}\r\n",
        "colors = 'red', 'blue', 'pink', 'red'\r\n",
        "set_2 = set(colors)\r\n",
        "print(set_1)"
      ],
      "execution_count": null,
      "outputs": [
        {
          "output_type": "stream",
          "text": [
            "{'pink', 'blue', 'red'}\n"
          ],
          "name": "stdout"
        }
      ]
    },
    {
      "cell_type": "code",
      "metadata": {
        "colab": {
          "base_uri": "https://localhost:8080/"
        },
        "id": "aXtwpa2cQjPt",
        "outputId": "967565ae-28a8-415d-8c9a-c33b58ec19c3"
      },
      "source": [
        "letter = \"a b c d e f g h i j k l m n o p r s t u v y z\".split()\r\n",
        "print(letter)\r\n",
        "print(set(letter))"
      ],
      "execution_count": null,
      "outputs": [
        {
          "output_type": "stream",
          "text": [
            "['a', 'b', 'c', 'd', 'e', 'f', 'g', 'h', 'i', 'j', 'k', 'l', 'm', 'n', 'o', 'p', 'r', 's', 't', 'u', 'v', 'y', 'z']\n",
            "{'p', 'z', 'u', 'j', 'm', 'y', 'v', 'a', 'h', 'd', 'r', 'f', 'c', 'i', 'g', 'l', 'b', 'e', 'n', 's', 't', 'o', 'k'}\n"
          ],
          "name": "stdout"
        }
      ]
    },
    {
      "cell_type": "code",
      "metadata": {
        "colab": {
          "base_uri": "https://localhost:8080/"
        },
        "id": "3wKgjJxDsrcH",
        "outputId": "ea39a829-f7e5-495c-fa77-f41139af85ac"
      },
      "source": [
        "{\"09.01.2021\"}"
      ],
      "execution_count": null,
      "outputs": [
        {
          "output_type": "execute_result",
          "data": {
            "text/plain": [
              "{'09.01.2021'}"
            ]
          },
          "metadata": {
            "tags": []
          },
          "execution_count": 14
        }
      ]
    },
    {
      "cell_type": "code",
      "metadata": {
        "colab": {
          "base_uri": "https://localhost:8080/"
        },
        "id": "yx8PFITAs6TE",
        "outputId": "4483a6aa-f34c-4701-a562-b929600b30c2"
      },
      "source": [
        "set(\"09.01.2021\")"
      ],
      "execution_count": null,
      "outputs": [
        {
          "output_type": "execute_result",
          "data": {
            "text/plain": [
              "{'.', '0', '1', '2', '9'}"
            ]
          },
          "metadata": {
            "tags": []
          },
          "execution_count": 15
        }
      ]
    },
    {
      "cell_type": "code",
      "metadata": {
        "colab": {
          "base_uri": "https://localhost:8080/"
        },
        "id": "ZQMvlTA0tNbV",
        "outputId": "23fb4f9e-b540-4045-aaa5-6fba992df9ee"
      },
      "source": [
        "num1 = int(input(\"enter first number: \"))\r\n",
        "num2 = int(input(\"enter second number: \"))\r\n",
        "num3 = int(input(\"enter third number: \"))\r\n",
        "if num1 > num2 and num1 > num3:\r\n",
        "  print(f\"The largest number {num1}\")\r\n",
        "elif num2 > num1 and num2 > num3:\r\n",
        "  print(f\"The largest number {num2}\")\r\n",
        "else:\r\n",
        "  print(f\"The largest number {num3}\")\r\n"
      ],
      "execution_count": null,
      "outputs": [
        {
          "output_type": "stream",
          "text": [
            "enter first number: 2\n",
            "enter second number: 4\n",
            "enter third number: 6\n",
            "The largest number 6\n"
          ],
          "name": "stdout"
        }
      ]
    },
    {
      "cell_type": "code",
      "metadata": {
        "colab": {
          "base_uri": "https://localhost:8080/"
        },
        "id": "yn5fs0VztQQ1",
        "outputId": "effc7a70-9d9c-4bcf-a5d1-7969ae75ed8f"
      },
      "source": [
        "a = int(input(\"First number: \"))\r\n",
        "b = int(input(\"Second number: \"))\r\n",
        "c = int(input(\"Third number: \"))\r\n",
        "if a > b and c:\r\n",
        "    largest = a\r\n",
        "elif b > a and c:\r\n",
        "    largest = b\r\n",
        "else:\r\n",
        "    largest = c\r\n",
        "print(f\"The largest number is {largest}\")"
      ],
      "execution_count": null,
      "outputs": [
        {
          "output_type": "stream",
          "text": [
            "First number: 2\n",
            "Second number: 6\n",
            "Third number: 4\n",
            "The largest number is 6\n"
          ],
          "name": "stdout"
        }
      ]
    },
    {
      "cell_type": "code",
      "metadata": {
        "colab": {
          "base_uri": "https://localhost:8080/"
        },
        "id": "KyGEbe6syhrX",
        "outputId": "ca2c4f63-4cde-45dd-dc13-3aa67cd5319f"
      },
      "source": [
        "num = float(input(\"Enter number: \"))\r\n",
        "if num > 0:\r\n",
        "  print(\"You entered positive number\")\r\n",
        "elif num < 0:\r\n",
        "  print(\"You entered negative number\")\r\n",
        "else:\r\n",
        "  print(\"You entered zero\")"
      ],
      "execution_count": null,
      "outputs": [
        {
          "output_type": "stream",
          "text": [
            "enter number: 0\n",
            "You entered zero\n"
          ],
          "name": "stdout"
        }
      ]
    },
    {
      "cell_type": "code",
      "metadata": {
        "colab": {
          "base_uri": "https://localhost:8080/"
        },
        "id": "OgJEdefc1AXU",
        "outputId": "e260edc4-50de-4a6d-a1dc-4cbdd45baccc"
      },
      "source": [
        "degree = float(input(\"Enter your score: \"))\r\n",
        "if degree > 79:\r\n",
        "  if degree >= 95:\r\n",
        "    result = \"A+\"\r\n",
        "  elif degree >= 90 and degree <=94:\r\n",
        "    result = \"A\"\r\n",
        "  elif degree >= 85 and degree <= 89:\r\n",
        "    result = \"B+\"\r\n",
        "  else:\r\n",
        "    result = \"B\"\r\n",
        "else:\r\n",
        "  result = \"B-\"\r\n",
        "\r\n",
        "print(f\"Your score letter is : {result}\")\r\n"
      ],
      "execution_count": null,
      "outputs": [
        {
          "output_type": "stream",
          "text": [
            "enter number: 99\n",
            "Your score letter is : A+\n"
          ],
          "name": "stdout"
        }
      ]
    },
    {
      "cell_type": "code",
      "metadata": {
        "colab": {
          "base_uri": "https://localhost:8080/"
        },
        "id": "aJ9uDOeGQxom",
        "outputId": "f255fcc1-ebf5-4e5e-d46f-4bd83749f001"
      },
      "source": [
        "age = input(\"Enter your age: \")\r\n",
        "while not age.isdigit():\r\n",
        "  print(\"you entered incorrectly\")\r\n",
        "  age = input(\"Enter your age: \") \r\n",
        "  \r\n",
        "print(\"Great, you entered valid input\")\r\n",
        "  \r\n"
      ],
      "execution_count": null,
      "outputs": [
        {
          "output_type": "stream",
          "text": [
            "Enter your age: 23.3\n",
            "you entered incorrectly\n",
            "Enter your age: 23e\n",
            "you entered incorrectly\n",
            "Enter your age: 24\n",
            "Great, you entered valid input\n"
          ],
          "name": "stdout"
        }
      ]
    },
    {
      "cell_type": "code",
      "metadata": {
        "id": "Lhv2yG14T_VW"
      },
      "source": [
        "num = int(input(\"Enter number: \"))\r\n",
        "while True:\r\n",
        "  "
      ],
      "execution_count": null,
      "outputs": []
    },
    {
      "cell_type": "code",
      "metadata": {
        "id": "CtYPYCv9b1Wa"
      },
      "source": [
        "num1 = int(input(\"enter first number: \"))\r\n",
        "num2 = int(input(\"enter second number: \"))\r\n",
        "num3 = int(input(\"enter third number: \"))\r\n",
        "if num1 > num2 and num1 > num3:\r\n",
        "  print(f\"The largest number {num1}\")\r\n",
        "elif num2 > num1 and num2 > num3:\r\n",
        "  print(f\"The largest number {num2}\")\r\n",
        "else:\r\n",
        "  print(f\"The largest number {num3}\")"
      ],
      "execution_count": null,
      "outputs": []
    },
    {
      "cell_type": "code",
      "metadata": {
        "colab": {
          "base_uri": "https://localhost:8080/"
        },
        "id": "wI1pNbCGcADh",
        "outputId": "b8af8df3-522e-4788-d14b-6cf9ac7d78a9"
      },
      "source": [
        "sentence = input(\"Enter a sentence: \")\r\n",
        "\r\n",
        "while True:\r\n",
        "  words = sentence.split()\r\n",
        "  words.sort(reverse = True, key = len)\r\n",
        "  break\r\n",
        "print(f\"The longest word is {words[0]} and Lenght of the longest word is {len(words[0])}\")\r\n",
        "  \r\n",
        "\r\n"
      ],
      "execution_count": null,
      "outputs": [
        {
          "output_type": "stream",
          "text": [
            "Enter a sentence: clarusway is a family\n",
            "The longest word is clarusway and Lenght of the longest word is :9\n"
          ],
          "name": "stdout"
        }
      ]
    },
    {
      "cell_type": "code",
      "metadata": {
        "colab": {
          "base_uri": "https://localhost:8080/"
        },
        "id": "tFSqY1nrgT3B",
        "outputId": "60deed36-16df-4015-fb0d-7aae980adc1e"
      },
      "source": [
        "sentence = input(\"Enter a sentence: \")\r\n",
        "\r\n",
        "while True:\r\n",
        "  words = sentence.split()\r\n",
        "  result = max(words, key = len)\r\n",
        "  break\r\n",
        "\r\n",
        "print(f\"The longest word is {result} and Lenght of the longest word is {len(result)}\")"
      ],
      "execution_count": null,
      "outputs": [
        {
          "output_type": "stream",
          "text": [
            "Enter a sentence: clarusway is a family\n",
            "clarusway\n",
            "The longest word is clarusway and Lenght of the longest word is :9\n"
          ],
          "name": "stdout"
        }
      ]
    },
    {
      "cell_type": "code",
      "metadata": {
        "colab": {
          "base_uri": "https://localhost:8080/"
        },
        "id": "5fSkEeQSCn-s",
        "outputId": "010a1fe7-bcb4-4a91-f7b6-e11dce94c2ff"
      },
      "source": [
        "names = [\"Ahmet\", \"Aisha\", \"Adam\", \"Joseph\", \"Gabriel\"]\r\n",
        "for i in names:\r\n",
        "    print(\"hello\", i)"
      ],
      "execution_count": null,
      "outputs": [
        {
          "output_type": "stream",
          "text": [
            "hello Ahmet\n",
            "hello Aisha\n",
            "hello Adam\n",
            "hello Joseph\n",
            "hello Gabriel\n"
          ],
          "name": "stdout"
        }
      ]
    },
    {
      "cell_type": "code",
      "metadata": {
        "colab": {
          "base_uri": "https://localhost:8080/"
        },
        "id": "zjNaWcGWDSn4",
        "outputId": "ecf421fe-9d2f-422e-db44-6c950f796991"
      },
      "source": [
        "a = []\r\n",
        "for i in range(1, 6):\r\n",
        "  a.append(i)\r\n",
        "print(a)"
      ],
      "execution_count": null,
      "outputs": [
        {
          "output_type": "stream",
          "text": [
            "[1, 2, 3, 4, 5]\n"
          ],
          "name": "stdout"
        }
      ]
    },
    {
      "cell_type": "code",
      "metadata": {
        "colab": {
          "base_uri": "https://localhost:8080/"
        },
        "id": "fR0CmterL0eU",
        "outputId": "db598b89-2b2b-4c84-f0c2-525f515588f1"
      },
      "source": [
        "num = int(input(\"Enter a number: \"))\r\n",
        "for i in range(11):\r\n",
        "  print(num, \"x\", i, \"=\", num * i)"
      ],
      "execution_count": null,
      "outputs": [
        {
          "output_type": "stream",
          "text": [
            "Enter a number: 5\n",
            "5 x 0 = 0\n",
            "5 x 1 = 5\n",
            "5 x 2 = 10\n",
            "5 x 3 = 15\n",
            "5 x 4 = 20\n",
            "5 x 5 = 25\n",
            "5 x 6 = 30\n",
            "5 x 7 = 35\n",
            "5 x 8 = 40\n",
            "5 x 9 = 45\n",
            "5 x 10 = 50\n"
          ],
          "name": "stdout"
        }
      ]
    },
    {
      "cell_type": "code",
      "metadata": {
        "colab": {
          "base_uri": "https://localhost:8080/"
        },
        "id": "y3qnf-wZVEZZ",
        "outputId": "a569e02d-7eef-420b-8ba1-bdf00952c8c5"
      },
      "source": [
        "word = input(\"Give me a word: \")\r\n",
        "count = 0\r\n",
        "for i in word:\r\n",
        "    count += 1\r\n",
        "    if count < len(word):\r\n",
        "        i = i + \"-\"\r\n",
        "    print(i, end = \"\")"
      ],
      "execution_count": null,
      "outputs": [
        {
          "output_type": "stream",
          "text": [
            "Give me a word: enter\n",
            "e-n-t-e-r"
          ],
          "name": "stdout"
        }
      ]
    },
    {
      "cell_type": "code",
      "metadata": {
        "id": "UM_QiFAsVOYD"
      },
      "source": [
        "\"clarusway\".split()\r\n",
        "print(\"-\".join(name))"
      ],
      "execution_count": null,
      "outputs": []
    },
    {
      "cell_type": "code",
      "metadata": {
        "id": "SLQUjIykVgCk"
      },
      "source": [
        "name = []\r\n",
        "for i in \"clarusway\":\r\n",
        "    name.append(i)\r\n",
        "print(\"-\".join(name))\r\n",
        "    "
      ],
      "execution_count": null,
      "outputs": []
    },
    {
      "cell_type": "code",
      "metadata": {
        "colab": {
          "base_uri": "https://localhost:8080/"
        },
        "id": "LwLJ4A5KVlK3",
        "outputId": "b93759d3-4125-4b19-f329-fb4e246c6e6d"
      },
      "source": [
        "print(*\"clarusway\", sep=\"-\")"
      ],
      "execution_count": null,
      "outputs": [
        {
          "output_type": "stream",
          "text": [
            "c-l-a-r-u-s-w-a-y\n"
          ],
          "name": "stdout"
        }
      ]
    },
    {
      "cell_type": "code",
      "metadata": {
        "colab": {
          "base_uri": "https://localhost:8080/"
        },
        "id": "6rpgZwyvVx9-",
        "outputId": "c72f3835-7a82-4e50-abc8-68525a26995b"
      },
      "source": [
        "print(*range(5, 25, 2))"
      ],
      "execution_count": null,
      "outputs": [
        {
          "output_type": "stream",
          "text": [
            "5 7 9 11 13 15 17 19 21 23\n"
          ],
          "name": "stdout"
        }
      ]
    },
    {
      "cell_type": "code",
      "metadata": {
        "colab": {
          "base_uri": "https://localhost:8080/"
        },
        "id": "Hk3IW_JgXJNf",
        "outputId": "415e242c-26f6-4fbf-d3ff-0791274a14f7"
      },
      "source": [
        "print(range(5, 25, 2))"
      ],
      "execution_count": null,
      "outputs": [
        {
          "output_type": "stream",
          "text": [
            "range(5, 25, 2)\n"
          ],
          "name": "stdout"
        }
      ]
    },
    {
      "cell_type": "code",
      "metadata": {
        "colab": {
          "base_uri": "https://localhost:8080/"
        },
        "id": "LrxtAyJgXL52",
        "outputId": "d9c93d38-4378-4eeb-b093-9cf8d28f3305"
      },
      "source": [
        "\"\"\"In order to learn ASCII code value\"\"\"\r\n",
        "ord(\"a\")"
      ],
      "execution_count": null,
      "outputs": [
        {
          "output_type": "execute_result",
          "data": {
            "text/plain": [
              "97"
            ]
          },
          "metadata": {
            "tags": []
          },
          "execution_count": 16
        }
      ]
    },
    {
      "cell_type": "code",
      "metadata": {
        "colab": {
          "base_uri": "https://localhost:8080/"
        },
        "id": "wbyf5xh6o8_5",
        "outputId": "3f05569c-1b5a-47dc-a508-2354dc1a317b"
      },
      "source": [
        "print(*\"seperate\")"
      ],
      "execution_count": null,
      "outputs": [
        {
          "output_type": "stream",
          "text": [
            "s e p e r a t e\n"
          ],
          "name": "stdout"
        }
      ]
    },
    {
      "cell_type": "code",
      "metadata": {
        "colab": {
          "base_uri": "https://localhost:8080/"
        },
        "id": "9In8ljK7qYVw",
        "outputId": "c7aefa23-c5d7-49db-a377-deba325808fa"
      },
      "source": [
        "a = [\"one\", \"two\", \"three\", \"four\", \"five\"]\r\n",
        "b = [1, 2, 3, 4, 5]\r\n",
        "for i, j in zip(a, b):\r\n",
        "  print(i, \":\", j)"
      ],
      "execution_count": null,
      "outputs": [
        {
          "output_type": "stream",
          "text": [
            "one : 1\n",
            "two : 2\n",
            "three : 3\n",
            "four : 4\n",
            "five : 5\n"
          ],
          "name": "stdout"
        }
      ]
    },
    {
      "cell_type": "code",
      "metadata": {
        "id": "lTjin2wFtSmo"
      },
      "source": [
        "a = [\"one\", \"two\", \"three\", \"four\", \"five\"]\r\n",
        "b = [1, 2, 3, 4, 5]"
      ],
      "execution_count": null,
      "outputs": []
    },
    {
      "cell_type": "code",
      "metadata": {
        "colab": {
          "base_uri": "https://localhost:8080/"
        },
        "id": "Ec25cwbytTaC",
        "outputId": "19129a46-0365-4c10-d4bf-9c898f45b67c"
      },
      "source": [
        "list(zip(a, b))"
      ],
      "execution_count": null,
      "outputs": [
        {
          "output_type": "execute_result",
          "data": {
            "text/plain": [
              "[('one', 1), ('two', 2), ('three', 3), ('four', 4), ('five', 5)]"
            ]
          },
          "metadata": {
            "tags": []
          },
          "execution_count": 20
        }
      ]
    },
    {
      "cell_type": "code",
      "metadata": {
        "colab": {
          "base_uri": "https://localhost:8080/"
        },
        "id": "-Z2H72yXtXKy",
        "outputId": "b6d2ae18-262d-4539-a291-c9f4f77915b7"
      },
      "source": [
        "print(* zip(a, b))"
      ],
      "execution_count": null,
      "outputs": [
        {
          "output_type": "stream",
          "text": [
            "('one', 1) ('two', 2) ('three', 3) ('four', 4) ('five', 5)\n"
          ],
          "name": "stdout"
        }
      ]
    },
    {
      "cell_type": "code",
      "metadata": {
        "colab": {
          "base_uri": "https://localhost:8080/"
        },
        "id": "u8T0BA_ZteFK",
        "outputId": "bf18e883-f6a9-40ce-9923-ad2a98ae85f5"
      },
      "source": [
        "odd = []\r\n",
        "even = []\r\n",
        "for i in range(11):\r\n",
        "  if i % 2 == 0:\r\n",
        "    even.append(i)\r\n",
        "  else:\r\n",
        "    odd.append(i)\r\n",
        "\r\n",
        "print(\"evens:\", even)\r\n",
        "print(\"odds:\", odd)\r\n"
      ],
      "execution_count": null,
      "outputs": [
        {
          "output_type": "stream",
          "text": [
            "evens: [0, 2, 4, 6, 8, 10]\n",
            "odds: [1, 3, 5, 7, 9]\n"
          ],
          "name": "stdout"
        }
      ]
    },
    {
      "cell_type": "code",
      "metadata": {
        "id": "F9kjxSmSu3nv"
      },
      "source": [
        ""
      ],
      "execution_count": null,
      "outputs": []
    }
  ]
}