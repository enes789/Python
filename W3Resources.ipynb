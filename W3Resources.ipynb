{
  "nbformat": 4,
  "nbformat_minor": 0,
  "metadata": {
    "colab": {
      "name": "W3Resources",
      "provenance": [],
      "collapsed_sections": [],
      "authorship_tag": "ABX9TyMc7SN5QTBpmndgx4Fbo+QO",
      "include_colab_link": true
    },
    "kernelspec": {
      "name": "python3",
      "display_name": "Python 3"
    }
  },
  "cells": [
    {
      "cell_type": "markdown",
      "metadata": {
        "id": "view-in-github",
        "colab_type": "text"
      },
      "source": [
        "<a href=\"https://colab.research.google.com/github/enes789/Python/blob/main/W3Resources.ipynb\" target=\"_parent\"><img src=\"https://colab.research.google.com/assets/colab-badge.svg\" alt=\"Open In Colab\"/></a>"
      ]
    },
    {
      "cell_type": "code",
      "metadata": {
        "colab": {
          "base_uri": "https://localhost:8080/"
        },
        "id": "sD622K7O9pd9",
        "outputId": "142f3da1-eaa2-4391-82dd-d44b587e27c1"
      },
      "source": [
        "\"\"\"Write a Python program to find those numbers\r\n",
        " which are divisible by 7 and multiple of 5, \r\n",
        " between 1500 and 2700 (both included)\"\"\"\r\n",
        "a = []\r\n",
        "for i in range(1500, 2701):\r\n",
        "  if i % 35 == 0:\r\n",
        "    a.append(i)\r\n",
        "print(a)\r\n"
      ],
      "execution_count": null,
      "outputs": [
        {
          "output_type": "stream",
          "text": [
            "[1505, 1540, 1575, 1610, 1645, 1680, 1715, 1750, 1785, 1820, 1855, 1890, 1925, 1960, 1995, 2030, 2065, 2100, 2135, 2170, 2205, 2240, 2275, 2310, 2345, 2380, 2415, 2450, 2485, 2520, 2555, 2590, 2625, 2660, 2695]\n"
          ],
          "name": "stdout"
        }
      ]
    },
    {
      "cell_type": "code",
      "metadata": {
        "colab": {
          "base_uri": "https://localhost:8080/"
        },
        "id": "jSt44czXVomE",
        "outputId": "aeb51c6a-7a6b-4445-bfa0-268b916a7f07"
      },
      "source": [
        "import random\r\n",
        "xnum = random.randint(1, 10)\r\n",
        "\r\n",
        "a = int(input(\"Enter a value which is between 1 and 9 inclusive: \"))\r\n",
        "\r\n",
        "while a != xnum:\r\n",
        "  if a > xnum:\r\n",
        "    a = int(input(\"Enter smaller number:\"))\r\n",
        "  else:\r\n",
        "    a = int(input(\"Enter bigger number:\"))\r\n",
        "\r\n",
        "print(\"Congrats! You found a exact number\")\r\n"
      ],
      "execution_count": null,
      "outputs": [
        {
          "output_type": "stream",
          "text": [
            "Enter a value which is between 1 and 9 inclusive: 5\n",
            "Enter smaller number:3\n",
            "Congrats! You found a exact number\n"
          ],
          "name": "stdout"
        }
      ]
    },
    {
      "cell_type": "code",
      "metadata": {
        "colab": {
          "base_uri": "https://localhost:8080/"
        },
        "id": "eZ7CGfB7XdUl",
        "outputId": "70943d94-717f-4705-d61f-e4894d8331d0"
      },
      "source": [
        "a = int(input(\"Enter a value which is between 1 and 9 inclusive: \"))\r\n",
        "for i in range(1, a + 1):\r\n",
        "  print(\"* \" * i)\r\n",
        "  if i == a:\r\n",
        "    for j in range(a -1, 0, -1):\r\n",
        "      print(\"* \" * j)\r\n"
      ],
      "execution_count": null,
      "outputs": [
        {
          "output_type": "stream",
          "text": [
            "Enter a value which is between 1 and 9 inclusive: 5\n",
            "* \n",
            "* * \n",
            "* * * \n",
            "* * * * \n",
            "* * * * * \n",
            "* * * * \n",
            "* * * \n",
            "* * \n",
            "* \n"
          ],
          "name": "stdout"
        }
      ]
    },
    {
      "cell_type": "code",
      "metadata": {
        "colab": {
          "base_uri": "https://localhost:8080/"
        },
        "id": "HL-0ETvpbF2M",
        "outputId": "663b2802-fdc9-459d-8fb4-6379234736a8"
      },
      "source": [
        "\"\"\" Write a Python program that accepts a word from the user and reverse it.\"\"\"\r\n",
        "word = input(\"Enter a word: \")\r\n",
        "new_word = word[::-1]\r\n",
        "print(new_word)"
      ],
      "execution_count": null,
      "outputs": [
        {
          "output_type": "stream",
          "text": [
            "Enter a word: clarusway\n",
            "yawsuralc\n"
          ],
          "name": "stdout"
        }
      ]
    },
    {
      "cell_type": "code",
      "metadata": {
        "colab": {
          "base_uri": "https://localhost:8080/"
        },
        "id": "x31Qm5cCcGzw",
        "outputId": "c681de9c-8706-46b4-d72e-04eb22ebd3e1"
      },
      "source": [
        "datalist = [1452, 11.23, 1+2j, True, 'w3resource', (0, -1), [5, 12], {\"class\":'V', \"section\":'A'}]\r\n",
        "a = []\r\n",
        "for i in datalist:\r\n",
        "  a.append(type(i))\r\n",
        "print(a)"
      ],
      "execution_count": null,
      "outputs": [
        {
          "output_type": "stream",
          "text": [
            "[<class 'int'>, <class 'float'>, <class 'complex'>, <class 'bool'>, <class 'str'>, <class 'tuple'>, <class 'list'>, <class 'dict'>]\n"
          ],
          "name": "stdout"
        }
      ]
    },
    {
      "cell_type": "code",
      "metadata": {
        "colab": {
          "base_uri": "https://localhost:8080/"
        },
        "id": "oCVXpxj_ct9m",
        "outputId": "1b6b22e5-dedf-4a92-cb55-fc207e0e85a4"
      },
      "source": [
        "\"\"\" Write a Python program that prints all the numbers from 0 to 6 except 3 and 6.\r\n",
        "Note : Use 'continue' statement.\"\"\"\r\n",
        "\r\n",
        "for i in range(7):\r\n",
        "  if i == 3 or i == 6:\r\n",
        "    continue\r\n",
        "  else:\r\n",
        "    print(i, end = \" \")"
      ],
      "execution_count": null,
      "outputs": [
        {
          "output_type": "stream",
          "text": [
            "0 1 2 4 5 "
          ],
          "name": "stdout"
        }
      ]
    },
    {
      "cell_type": "code",
      "metadata": {
        "colab": {
          "base_uri": "https://localhost:8080/"
        },
        "id": "UtTIkgnWJ8Ul",
        "outputId": "512fa7fa-8c94-41c6-85e4-3ec1ed9ff55a"
      },
      "source": [
        "\"\"\"Write a Python program to get the Fibonacci series between 0 to 50. \"\"\"\r\n",
        "a, b = 0, 1\r\n",
        "while b < 50:\r\n",
        "  a, b = b, a + b\r\n",
        "  print(a, end= \" \") "
      ],
      "execution_count": null,
      "outputs": [
        {
          "output_type": "stream",
          "text": [
            "1 1 2 3 5 8 13 21 34 "
          ],
          "name": "stdout"
        }
      ]
    },
    {
      "cell_type": "code",
      "metadata": {
        "colab": {
          "base_uri": "https://localhost:8080/"
        },
        "id": "ZanDCBQtMz9f",
        "outputId": "12a78849-ca4e-4312-d75c-43867e7c95d3"
      },
      "source": [
        "\"\"\"Write a Python program which\r\n",
        "takes two digits m (row) and n (column) as input and generates a two-dimensional array.\r\n",
        "The element value in the i-th row and j-th column of the array should be i*j. \"\"\"\r\n",
        "\r\n",
        "row_num = int(input(\"Input number of rows: \"))\r\n",
        "col_num = int(input(\"Input number of columns: \"))\r\n",
        "multi_list = [[0 for col in range(col_num)] for row in range(row_num)]\r\n",
        "print(multi_list)\r\n",
        "for row in range(row_num):\r\n",
        "    for col in range(col_num):\r\n",
        "        multi_list[row][col]= row*col\r\n",
        "\r\n",
        "print(multi_list)"
      ],
      "execution_count": null,
      "outputs": [
        {
          "output_type": "stream",
          "text": [
            "Input number of rows: 4\n",
            "Input number of columns: 5\n",
            "[[0, 0, 0, 0, 0], [0, 0, 0, 0, 0], [0, 0, 0, 0, 0], [0, 0, 0, 0, 0]]\n",
            "[[0, 0, 0, 0, 0], [0, 1, 2, 3, 4], [0, 2, 4, 6, 8], [0, 3, 6, 9, 12]]\n"
          ],
          "name": "stdout"
        }
      ]
    },
    {
      "cell_type": "code",
      "metadata": {
        "colab": {
          "base_uri": "https://localhost:8080/"
        },
        "id": "t9z-aiEgN2fm",
        "outputId": "b903516e-8b71-4e32-91a5-fbeb065ee65f"
      },
      "source": [
        "\"\"\"Write a Python program which accepts a sequence of comma separated 4 digit binary numbers as its input \r\n",
        "and print the numbers that are divisible by 5 in a comma separated sequence. Go to the editor\"\"\"\r\n",
        "Data = [\"0100\", \"0011\", \"1010\", \"1001\", \"1100\", \"1001\", \"0101\"]\r\n",
        "item = []\r\n",
        "for i in Data:\r\n",
        "    result = int(i, 2)\r\n",
        "    if result % 5 == 0:\r\n",
        "      item.append(result)\r\n",
        "      print(i, end = \", \")\r\n",
        "      \r\n",
        "      \r\n",
        "\r\n"
      ],
      "execution_count": null,
      "outputs": [
        {
          "output_type": "stream",
          "text": [
            "1010, 0101, "
          ],
          "name": "stdout"
        }
      ]
    },
    {
      "cell_type": "code",
      "metadata": {
        "colab": {
          "base_uri": "https://localhost:8080/"
        },
        "id": "x_salkyah-z-",
        "outputId": "8d777e6b-856b-4d50-9a8f-aa360943171f"
      },
      "source": [
        "def string_reverse(str1):\r\n",
        "  index = len(str1)\r\n",
        "  str2 = \"\"\r\n",
        "  while index > 0:\r\n",
        "    str2 += str1[index - 1]\r\n",
        "    index -= 1\r\n",
        "  return str2\r\n",
        "\r\n",
        "str1 = input(\"Enter a string value: \")\r\n",
        "print(string_reverse(str1))"
      ],
      "execution_count": 3,
      "outputs": [
        {
          "output_type": "stream",
          "text": [
            "Enter a string value: 124asd\n",
            "dsa421\n"
          ],
          "name": "stdout"
        }
      ]
    },
    {
      "cell_type": "code",
      "metadata": {
        "colab": {
          "base_uri": "https://localhost:8080/"
        },
        "id": "b0zApqZEjhm3",
        "outputId": "db318109-acfe-4438-cc36-3d880b1c8ba3"
      },
      "source": [
        "\"\"\"Write a Python function to calculate the factorial of a number (a non-negative integer). \r\n",
        "The function accepts the number as an argument\"\"\"\r\n",
        "\r\n",
        "def factoriel(n):\r\n",
        "  if n == 0:\r\n",
        "    return 1\r\n",
        "  else:\r\n",
        "    i = 1\r\n",
        "    result = 1\r\n",
        "    while i <= n:\r\n",
        "      result *= i\r\n",
        "      i += 1\r\n",
        "    return result\r\n",
        "\r\n",
        "n = int(input(\"Input a number to calculate the factorial of number: \"))\r\n",
        "print(factoriel(n))"
      ],
      "execution_count": 13,
      "outputs": [
        {
          "output_type": "stream",
          "text": [
            "Enter a number to calculate the factorial of number: 5\n",
            "120\n"
          ],
          "name": "stdout"
        }
      ]
    },
    {
      "cell_type": "code",
      "metadata": {
        "colab": {
          "base_uri": "https://localhost:8080/"
        },
        "id": "ZjjxLRPrmQlc",
        "outputId": "f5d3f229-54bc-4ad0-c21d-8845621a1457"
      },
      "source": [
        "\"\"\"Write a Python function that accepts a string and \r\n",
        "calculate the number of upper case letters and lower case letters\"\"\"\r\n",
        "\r\n",
        "def upper_or_lower(str1):\r\n",
        "  a = 0\r\n",
        "  b = 0\r\n",
        "  c = 0\r\n",
        "  for k in str1:\r\n",
        "    if k.isupper():\r\n",
        "      a += 1\r\n",
        "    elif k.islower():\r\n",
        "      b += 1\r\n",
        "    elif k.isspace():\r\n",
        "      c += 1\r\n",
        "    else:\r\n",
        "      pass\r\n",
        "      \r\n",
        "  \r\n",
        "  print (\"No. of Upper case characters : \", a)\r\n",
        "  print (\"No. of Lower case Characters : \", b)\r\n",
        "  print (\"No. of space : \", c)\r\n",
        "str1 = input(\"Enter a string value: \")\r\n",
        "upper_or_lower(str1)\r\n"
      ],
      "execution_count": 22,
      "outputs": [
        {
          "output_type": "stream",
          "text": [
            "Enter a string value: The 123quick  Brown Fox45\n",
            "No. of Upper case characters :  3\n",
            "No. of Lower case Characters :  13\n",
            "No. of space :  4\n"
          ],
          "name": "stdout"
        }
      ]
    },
    {
      "cell_type": "code",
      "metadata": {
        "colab": {
          "base_uri": "https://localhost:8080/"
        },
        "id": "8ZIMjZTBnq4a",
        "outputId": "41f2521e-25c2-4a5c-c2eb-d984c0e8e3d8"
      },
      "source": [
        "\"\"\"Write a Python function that takes a list and returns a new list with unique elements of the first list\"\"\"\r\n",
        "\r\n",
        "def unique1(list_n):\r\n",
        "  new_set = set(list_n)\r\n",
        "  return list(new_set)\r\n",
        "\r\n",
        "\r\n",
        "print(unique1([1,2,3,3,3,3,4,5]))"
      ],
      "execution_count": 28,
      "outputs": [
        {
          "output_type": "stream",
          "text": [
            "[1, 2, 3, 4, 5]\n"
          ],
          "name": "stdout"
        }
      ]
    },
    {
      "cell_type": "code",
      "metadata": {
        "colab": {
          "base_uri": "https://localhost:8080/"
        },
        "id": "NH7B0XtAsjeq",
        "outputId": "2901f1ed-58d8-4166-bb82-7434097beb95"
      },
      "source": [
        "\"\"\"Write a Python function that takes a number as a parameter and check the number is prime or not\"\"\"\r\n",
        "\r\n",
        "def prime(n):\r\n",
        "  if n == 1:\r\n",
        "    return False\r\n",
        "  elif n == 2:\r\n",
        "    return True\r\n",
        "  else:\r\n",
        "    for i in range(2, n):\r\n",
        "      if n % i == 0:\r\n",
        "        return False\r\n",
        "      return True\r\n",
        "       \r\n",
        "n = int(input(\"Enter a number to learn whether it is prime number or not: \"))\r\n",
        "print(prime(n))\r\n"
      ],
      "execution_count": 55,
      "outputs": [
        {
          "output_type": "stream",
          "text": [
            "Enter a number to learn whether it is prime number or not: 5\n",
            "True\n"
          ],
          "name": "stdout"
        }
      ]
    },
    {
      "cell_type": "code",
      "metadata": {
        "colab": {
          "base_uri": "https://localhost:8080/"
        },
        "id": "Dn0OEUzw5Gwv",
        "outputId": "f9d4bd54-7883-48ab-be9b-68e11fe5671b"
      },
      "source": [
        "\"\"\"Write a Python function to check whether a number is perfect or not. \r\n",
        "Example : The first perfect number is 6, \r\n",
        "because 1, 2, and 3 are its proper positive divisors, and 1 + 2 + 3 = 6. \r\n",
        "The next perfect number is 28 = 1 + 2 + 4 + 7 + 14. This is followed by the perfect numbers 496 and 8128.\"\"\"\r\n",
        "\r\n",
        "def perfect_number(n):\r\n",
        "  perfect = []\r\n",
        "  for k in range(1, n + 1):\r\n",
        "    total = 0\r\n",
        "    for i in range(1, k):\r\n",
        "      if k % i == 0:\r\n",
        "        total += i\r\n",
        "\r\n",
        "    if total == k:\r\n",
        "      perfect.append(k)\r\n",
        "      \r\n",
        "  return perfect\r\n",
        "  \r\n",
        "n = int(input(\"Enter a number: \")) \r\n",
        "print(perfect_number(n))\r\n",
        "     "
      ],
      "execution_count": 67,
      "outputs": [
        {
          "output_type": "stream",
          "text": [
            "Enter a number: 10000\n",
            "[6, 28, 496, 8128]\n"
          ],
          "name": "stdout"
        }
      ]
    },
    {
      "cell_type": "code",
      "metadata": {
        "id": "blQxVHJQ7vy4"
      },
      "source": [
        ""
      ],
      "execution_count": null,
      "outputs": []
    }
  ]
}