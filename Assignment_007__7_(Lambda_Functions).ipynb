{
  "nbformat": 4,
  "nbformat_minor": 0,
  "metadata": {
    "colab": {
      "name": "Assignment_007_ 7_(Lambda Functions)",
      "provenance": [],
      "collapsed_sections": [],
      "authorship_tag": "ABX9TyPOBP94YoaJzfqONM8Qu6hN",
      "include_colab_link": true
    },
    "kernelspec": {
      "name": "python3",
      "display_name": "Python 3"
    }
  },
  "cells": [
    {
      "cell_type": "markdown",
      "metadata": {
        "id": "view-in-github",
        "colab_type": "text"
      },
      "source": [
        "<a href=\"https://colab.research.google.com/github/enes789/Python/blob/main/Assignment_007__7_(Lambda_Functions).ipynb\" target=\"_parent\"><img src=\"https://colab.research.google.com/assets/colab-badge.svg\" alt=\"Open In Colab\"/></a>"
      ]
    },
    {
      "cell_type": "code",
      "metadata": {
        "colab": {
          "base_uri": "https://localhost:8080/"
        },
        "id": "vnA-ffuulUAb",
        "outputId": "30182a6e-91ac-42ef-f5fc-2c3034571f62"
      },
      "source": [
        "my_list = [['C', 'L'], ['A', 'R', 'U','a','s'], ['S', 'W', 'A', 'Y']]\r\n",
        "res = lambda x : max(x, key=len)\r\n",
        "print((res(my_list), len(res(my_list))))"
      ],
      "execution_count": null,
      "outputs": [
        {
          "output_type": "stream",
          "text": [
            "(['A', 'R', 'U', 'a', 's'], 5)\n"
          ],
          "name": "stdout"
        }
      ]
    },
    {
      "cell_type": "code",
      "metadata": {
        "colab": {
          "base_uri": "https://localhost:8080/"
        },
        "id": "H99TSU94lvzo",
        "outputId": "e0680b8f-0f02-46d5-d90c-faedafa6dbaa"
      },
      "source": [
        "from math import factorial\r\n",
        "\r\n",
        "def divisible(x, y):\r\n",
        "    if y == 0:\r\n",
        "      print(\"error\")\r\n",
        "    elif x == factorial(y):\r\n",
        "      print(\"divisible\")\r\n",
        "    else:\r\n",
        "      print(\"not divisible\")\r\n",
        "\r\n",
        "divisible(12, 10)\r\n"
      ],
      "execution_count": null,
      "outputs": [
        {
          "output_type": "stream",
          "text": [
            "not divisible\n"
          ],
          "name": "stdout"
        }
      ]
    },
    {
      "cell_type": "code",
      "metadata": {
        "colab": {
          "base_uri": "https://localhost:8080/"
        },
        "id": "f2NcCMLjpOK7",
        "outputId": "59ccadf1-3159-4e1d-c62e-7fa396706b65"
      },
      "source": [
        "def divisible(x, y):\r\n",
        "  a = 1\r\n",
        "  for i in range(1, y + 1):\r\n",
        "    a *= i\r\n",
        "  if y == 0:\r\n",
        "    print(\"error\")\r\n",
        "  elif x == a:\r\n",
        "    print(\"divisible\")\r\n",
        "  else:\r\n",
        "    print(\"not divisible\")\r\n",
        "\r\n",
        "divisible(24, 0)"
      ],
      "execution_count": null,
      "outputs": [
        {
          "output_type": "stream",
          "text": [
            "error\n"
          ],
          "name": "stdout"
        }
      ]
    },
    {
      "cell_type": "code",
      "metadata": {
        "id": "OzWY_Y-RvoyH"
      },
      "source": [
        ""
      ],
      "execution_count": null,
      "outputs": []
    }
  ]
}